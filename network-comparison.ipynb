{
 "cells": [
  {
   "cell_type": "markdown",
   "metadata": {
    "id": "bVaXo2-Ej5n6"
   },
   "source": [
    "# NNTI Assignment 8 (Q8.4)\n",
    "\n",
    "Name 1: Tarun Hariharan <br>\n",
    "Student id 1: 7062505 <br>\n",
    "Email 1: taha00002@stud.uni-saarland.de <br>\n",
    "\n",
    "Name 2: Prakhar Narain Srivastava <br>\n",
    "Student id 2: 7062507 <br>\n",
    "Email 2: prsr00001@stud.uni-saarland.de <br>\n",
    "\n",
    "Name 3: Bilal Amin <br>\n",
    "Student id 3: 7061951 <br>\n",
    "Email 3: biam00002@stud.uni-saarland.de <br>\n",
    "\n",
    "**Instructions:** Read each question carefully. <br/>\n",
    "Make sure you appropriately comment your code wherever required. Your final submission should contain the completed Notebook and the respective  files for any additional exercises necessary. There is no need to resubmit the data files should they be provided separately. <br>\n",
    "\n",
    "\n",
    "Upload the zipped folder on CMS. Please follow the naming convention of **Name1_id1_Name2_id2_Name3_id3.zip **. Only one member of the group should make the submisssion.\n"
   ]
  },
  {
   "cell_type": "markdown",
   "metadata": {
    "id": "PMIwrvjY_1Xh"
   },
   "source": [
    "In this exercise you will build your own neural networks, but this time you need to add regularization in the form of dropout, weight-decay and early-stopping.\n",
    "\n",
    "Each layer should have the option of using dropout. Your code needs to allow for this flexibility.\n",
    "\n",
    "Additionally, adding weight-decay and early-stopping should also be optional upon creation.\n",
    "\n",
    "**NOTE**:\n",
    "1. You are allowed to use built-in functions from pytorch to incorporate this functionality.\n",
    "\n",
    "2. We recommend the use of GPUs or Google collab for this exercise.\n",
    "\n",
    "3. During training and validation, remember when to use `model.train()` and `model.eval()`"
   ]
  },
  {
   "cell_type": "markdown",
   "metadata": {
    "id": "2zveJEhsAMxX"
   },
   "source": [
    "Use the below imports, as usual you are allowed to import additional packages, but mention the reason you're using them"
   ]
  },
  {
   "cell_type": "code",
   "execution_count": 18,
   "metadata": {
    "id": "yZ1KJ4ybAMM9"
   },
   "outputs": [],
   "source": [
    "import torch\n",
    "import torch.nn as nn\n",
    "from torchvision import transforms, datasets\n",
    "import matplotlib.pyplot as plt\n",
    "from tqdm import tqdm  \n",
    "import numpy as np\n",
    "import torch.nn.functional as F\n",
    "\n",
    "\n"
   ]
  },
  {
   "cell_type": "markdown",
   "metadata": {
    "id": "A9YGajyz__Y1"
   },
   "source": [
    "## a. Implement a regularized model [0.5 points]\n",
    "\n",
    "In this task, you will implement a custom neural network model using PyTorch. The model should incorporate key features such as **dropout** to improve generalization and prevent overfitting.\n",
    "\n",
    "**Tasks to implement**:\n",
    "\n",
    "1. Define the Model Architecture:\n",
    "  - The model consists of a series of fully connected (FC) layers with ReLU activations in between.\n",
    "  - Dropout layers are added after each hidden layer, with the probability of dropout specified by the `dropout_p` parameter.\n",
    "  - The final output layer produces a result that is passed through a Softmax activation for multi-class classification tasks.\n",
    "\n",
    "**Hint**:\n",
    "Since you're not implementing a CNN, but rather a simple ANN network, it is recommended to flatten your input images when pushing into the network."
   ]
  },
  {
   "cell_type": "code",
   "execution_count": 19,
   "metadata": {
    "id": "EECu_GiC_8rz"
   },
   "outputs": [],
   "source": [
    "class MyModel(nn.Module):\n",
    "    \"\"\"\n",
    "    A neural network model with flexible architecture incorporating dropout.\n",
    "\n",
    "    Args:\n",
    "        input_dim (int): Dimensionality of the input features.\n",
    "        hidden_dims (list): List of units in each hidden layer.\n",
    "        output_dim (int): Number of output units (number of classes).\n",
    "        dropout_probs (list): List of dropout probabilities for each layer.\n",
    "    \"\"\"\n",
    "    def __init__(self, input_dim, hidden_dims, output_dim, dropout_probs):\n",
    "        super(MyModel, self).__init__()\n",
    "        self.layers = nn.ModuleList()\n",
    "        \n",
    "        # Define input layer\n",
    "        prev_dim = input_dim\n",
    "        for hidden_dim, dropout_prob in zip(hidden_dims, dropout_probs):\n",
    "            self.layers.append(nn.Linear(prev_dim, hidden_dim))\n",
    "            self.layers.append(nn.ReLU())\n",
    "            if dropout_prob > 0:\n",
    "                self.layers.append(nn.Dropout(p=dropout_prob))\n",
    "            prev_dim = hidden_dim\n",
    "        \n",
    "        # Output layer\n",
    "        self.layers.append(nn.Linear(prev_dim, output_dim))\n",
    "\n",
    "    def forward(self, x):\n",
    "        x = x.view(x.size(0), -1)  # Flatten input\n",
    "        for layer in self.layers[:-1]:  # Apply all layers except the output\n",
    "            x = layer(x)\n",
    "        x = self.layers[-1](x)  # Output layer\n",
    "        x = F.softmax(x, dim=1)  # Apply softmax for classification\n",
    "        return x"
   ]
  },
  {
   "cell_type": "markdown",
   "metadata": {
    "id": "pQjM-snFBJZs"
   },
   "source": [
    "### b. Data and code setup [1 + 0.25 + 0.25 = 1.5 points]\n",
    "\n",
    "You will use the MNIST dataset for these experiments. The data setup has been provided for you.<br> **DO NOT CHANGE THE CODE HERE.**"
   ]
  },
  {
   "cell_type": "code",
   "execution_count": 20,
   "metadata": {
    "collapsed": true,
    "id": "ZipUQxVNBE9j",
    "jupyter": {
     "outputs_hidden": true
    }
   },
   "outputs": [],
   "source": [
    "# Load the data\n",
    "# DO NOT CHANGE THE CODE IN THIS CELL\n",
    "transform = transforms.Compose([\n",
    "    transforms.ToTensor(),\n",
    "    transforms.Normalize((0.5,), (0.5,))\n",
    "])\n",
    "\n",
    "mnist_train = datasets.MNIST(root='./data', train=True, download=True, transform=transform)\n",
    "train_size = int(0.8 * len(mnist_train))  # 80% for training\n",
    "val_size = len(mnist_train) - train_size  # 20% for validation\n",
    "\n",
    "# Split the dataset into training and validation\n",
    "train_dataset, val_dataset = torch.utils.data.random_split(mnist_train, [train_size, val_size])\n",
    "\n",
    "train_dl = torch.utils.data.DataLoader(train_dataset, batch_size=64, shuffle=True)\n",
    "val_dl = torch.utils.data.DataLoader(val_dataset, batch_size=64, shuffle=False)\n",
    "\n",
    "mnist_test = datasets.MNIST(root='./data', train=False, download=True, transform=transform)\n",
    "test_dl = torch.utils.data.DataLoader(mnist_test, batch_size=64, shuffle=False)"
   ]
  },
  {
   "cell_type": "markdown",
   "metadata": {
    "id": "k5xgR5zMgVCb"
   },
   "source": [
    "#### Training code\n",
    "The `trainer()` function trains a model using the provided data loaders, criterion (loss function), optimizer, and various options for regularization and early stopping. You will implement this function for training models for the experiments.\n",
    "\n",
    "Few things to keep in mind:\n",
    "- The function should accept model, data loaders, loss function, optimizer, and training configurations (epochs, early stopping).\n",
    "- The training loop should include forward pass, loss computation, backward pass, and weight update.\n",
    "- Track and return average training and validation losses for each epoch.\n",
    "- Use tqdm for progress bars during training and validation. (**optional**, but recommended)\n",
    "- Implement **early stopping** to halt training if validation loss doesn't improve for a set number of epochs. Provide a `patience` parameter as the number of epochs to wait until validation loss improves.\n",
    "  - Make it optional by passing a boolean param `early_stopping`."
   ]
  },
  {
   "cell_type": "code",
   "execution_count": 21,
   "metadata": {
    "id": "oRYujQeua3Sa"
   },
   "outputs": [],
   "source": [
    "\n",
    "\n",
    "def trainer(model, train_loader, val_loader, criterion, optimizer, epochs=50, early_stopping=False, patience=10):\n",
    "    \"\"\"\n",
    "    Train the model with optional early stopping.\n",
    "\n",
    "    Args:\n",
    "        model (torch.nn.Module): The model to be trained.\n",
    "        train_loader (DataLoader): The training data loader.\n",
    "        val_loader (DataLoader): The validation data loader.\n",
    "        criterion (loss function): The loss function.\n",
    "        optimizer (Optimizer): The optimizer to use.\n",
    "        epochs (int, optional): The number of epochs to train. Default is 50.\n",
    "        early_stopping (bool, optional): Whether to apply early stopping. Default is False.\n",
    "        patience (int, optional): The patience for early stopping. Default is 10.\n",
    "\n",
    "    Returns:\n",
    "        model (torch.nn.Module): The trained model.\n",
    "        train_losses (list): List of average training losses per epoch.\n",
    "        val_losses (list): List of average validation losses per epoch.\n",
    "    \"\"\"\n",
    "    \n",
    "    best_val_loss = float('inf')\n",
    "    patience_counter = 0\n",
    "    train_losses = []\n",
    "    val_losses = []\n",
    "\n",
    "    for epoch in range(epochs):\n",
    "        model.train()\n",
    "        train_loss = 0.0\n",
    "\n",
    "        for inputs, targets in tqdm(train_loader, desc=f\"Training Epoch {epoch+1}/{epochs}\"):\n",
    "            optimizer.zero_grad()\n",
    "            outputs = model(inputs)\n",
    "            loss = criterion(outputs, targets)\n",
    "            loss.backward()\n",
    "            optimizer.step()\n",
    "            train_loss += loss.item()\n",
    "\n",
    "        train_loss /= len(train_loader)\n",
    "        train_losses.append(train_loss)\n",
    "\n",
    "        model.eval()\n",
    "        val_loss = 0.0\n",
    "        with torch.no_grad():\n",
    "            for inputs, targets in tqdm(val_loader, desc=f\"Validation Epoch {epoch+1}/{epochs}\"):\n",
    "                outputs = model(inputs)\n",
    "                loss = criterion(outputs, targets)\n",
    "                val_loss += loss.item()\n",
    "\n",
    "        val_loss /= len(val_loader)\n",
    "        val_losses.append(val_loss)\n",
    "\n",
    "        print(f\"Epoch {epoch+1}/{epochs}, Train Loss: {train_loss:.4f}, Val Loss: {val_loss:.4f}\")\n",
    "\n",
    "        if early_stopping:\n",
    "            if val_loss < best_val_loss:\n",
    "                best_val_loss = val_loss\n",
    "                patience_counter = 0\n",
    "            else:\n",
    "                patience_counter += 1\n",
    "\n",
    "            if patience_counter >= patience:\n",
    "                print(\"Early stopping triggered.\")\n",
    "                break\n",
    "\n",
    "    return model, train_losses, val_losses\n"
   ]
  },
  {
   "cell_type": "markdown",
   "metadata": {
    "id": "WaPYTUJ3hc32"
   },
   "source": [
    "#### Evaluation code\n",
    "\n",
    "Complete the `plot_losses()` function and `evaluate_model()` to visualize the training and validation losses and to evaluate the model over the test set.\n",
    "\n",
    "**NOTE**:\n",
    "1. Add a legend, title, and grid to improve plot readability for `plot_losses()`\n",
    "2. Report the average test loss, accuracy, and F1 score metrics using `evaluate_model()`.\n"
   ]
  },
  {
   "cell_type": "code",
   "execution_count": 22,
   "metadata": {
    "id": "q1nQ7wF8a4V9"
   },
   "outputs": [],
   "source": [
    "import matplotlib.pyplot as plt\n",
    "from sklearn.metrics import accuracy_score, f1_score\n",
    "\n",
    "def plot_losses(train_losses, val_losses):\n",
    "    \"\"\"\n",
    "    Plot training and validation losses.\n",
    "\n",
    "    Args:\n",
    "        train_losses (list): List of average training losses per epoch.\n",
    "        val_losses (list): List of average validation losses per epoch.\n",
    "    \"\"\"\n",
    "    plt.figure(figsize=(10, 6))\n",
    "    plt.plot(train_losses, label=\"Training Loss\", marker='o')\n",
    "    plt.plot(val_losses, label=\"Validation Loss\", marker='o')\n",
    "    plt.title(\"Training and Validation Losses\", fontsize=14)\n",
    "    plt.xlabel(\"Epoch\", fontsize=12)\n",
    "    plt.ylabel(\"Loss\", fontsize=12)\n",
    "    plt.legend(fontsize=12)\n",
    "    plt.grid(True)\n",
    "    plt.show()\n",
    "\n",
    "def evaluate_model(model, test_loader, criterion):\n",
    "    \"\"\"\n",
    "    Evaluate the model on the test set and report accuracy and F1 score.\n",
    "\n",
    "    Args:\n",
    "        model (torch.nn.Module): The trained model to be evaluated.\n",
    "        test_loader (DataLoader): The test data loader.\n",
    "        criterion (loss function): The loss function to use for evaluation.\n",
    "\n",
    "    Returns:\n",
    "        float: The average test loss.\n",
    "        float: The accuracy of the model on the test set.\n",
    "        float: The F1 score of the model on the test set.\n",
    "    \"\"\"\n",
    "    model.eval()\n",
    "    test_loss = 0.0\n",
    "    all_targets = []\n",
    "    all_predictions = []\n",
    "\n",
    "    with torch.no_grad():\n",
    "        for inputs, targets in test_loader:\n",
    "            outputs = model(inputs)\n",
    "            loss = criterion(outputs, targets)\n",
    "            test_loss += loss.item()\n",
    "\n",
    "            predictions = torch.argmax(outputs, dim=1)\n",
    "            all_targets.extend(targets.cpu().numpy())\n",
    "            all_predictions.extend(predictions.cpu().numpy())\n",
    "\n",
    "    test_loss /= len(test_loader)\n",
    "    accuracy = accuracy_score(all_targets, all_predictions)\n",
    "    f1 = f1_score(all_targets, all_predictions, average=\"weighted\")\n",
    "\n",
    "    print(f\"Test Loss: {test_loss:.4f}\")\n",
    "    print(f\"Test Accuracy: {accuracy:.4f}\")\n",
    "    print(f\"Test F1 Score: {f1:.4f}\")\n",
    "\n",
    "    return test_loss, accuracy, f1\n"
   ]
  },
  {
   "cell_type": "markdown",
   "metadata": {
    "id": "i8v0woWNgl5H"
   },
   "source": [
    "## c. Experiments: [0.25+0.25+0.25+0.25 = 1 point]\n",
    "Build a deep network using 3 hidden layers, so in total including input and output layers, it shoudl be a 5-layer network. You will run the following 4 experiments on this network with the given configurations:\n",
    "\n",
    "1. Deep network (at least 3 hidden layers)\n",
    "2. Deep regularized network (with weight-decay enabled)\n",
    "3. Deep regularized network (with weight-decay and dropout)\n",
    "4. Deep regularized network (with weight-decay and early-stopping)\n",
    "\n",
    "Report Accuracy and $F_1$ metrics on the `test set` for your experiments and discuss your results. What did you expect to see and what did you end up seeing.\n",
    "\n",
    "**NOTE**:\n",
    "- You can choose how you use regularization. Ideally you would experiment with various parameters for this regularization, the 4 listed variants are merely what you must cover as a minimum. You are free to run more experiments if you want to.\n",
    "- In the end, report results for all your experiments on the test set concisely  in a table at the end.\n",
    "- Use the Adam optimizer for all of your experiments."
   ]
  },
  {
   "cell_type": "markdown",
   "metadata": {
    "id": "CfalnWsnaalz"
   },
   "source": [
    "### Experiment 1: Deep network (at least 3 hidden layers) (No Regularization)\n",
    "\n",
    "Use the given model configs and hyperparams to run the experiments."
   ]
  },
  {
   "cell_type": "code",
   "execution_count": 23,
   "metadata": {
    "id": "rpYAffBxaZC_"
   },
   "outputs": [],
   "source": [
    "import torch.optim as optim\n",
    "\n",
    "# Deep network (3 hidden layers) with no dropout and no weight-decay\n",
    "model_1_config = {\n",
    "    \"input_dim\": 28 * 28,\n",
    "    \"hidden_dim\": 400,\n",
    "    \"out_dim\": 10,\n",
    "    \"num_layers\": 3,\n",
    "    \"dropout\": [False, False, False],\n",
    "    \"dropout_p\": 0.5\n",
    "}\n",
    "\n",
    "\n",
    "learning_rate = 5e-5\n",
    "weight_decay = 0  # Use this only if weight-decay is needed"
   ]
  },
  {
   "cell_type": "code",
   "execution_count": 24,
   "metadata": {
    "id": "ddIGJio2BfPb"
   },
   "outputs": [
    {
     "name": "stderr",
     "output_type": "stream",
     "text": [
      "Training Epoch 1/50: 100%|██████████| 750/750 [00:03<00:00, 221.47it/s]\n",
      "Validation Epoch 1/50: 100%|██████████| 188/188 [00:00<00:00, 376.38it/s]\n"
     ]
    },
    {
     "name": "stdout",
     "output_type": "stream",
     "text": [
      "Epoch 1/50, Train Loss: 1.8170, Val Loss: 1.6600\n"
     ]
    },
    {
     "name": "stderr",
     "output_type": "stream",
     "text": [
      "Training Epoch 2/50: 100%|██████████| 750/750 [00:03<00:00, 212.76it/s]\n",
      "Validation Epoch 2/50: 100%|██████████| 188/188 [00:00<00:00, 379.53it/s]\n"
     ]
    },
    {
     "name": "stdout",
     "output_type": "stream",
     "text": [
      "Epoch 2/50, Train Loss: 1.6038, Val Loss: 1.5831\n"
     ]
    },
    {
     "name": "stderr",
     "output_type": "stream",
     "text": [
      "Training Epoch 3/50: 100%|██████████| 750/750 [00:03<00:00, 217.41it/s]\n",
      "Validation Epoch 3/50: 100%|██████████| 188/188 [00:00<00:00, 367.08it/s]\n"
     ]
    },
    {
     "name": "stdout",
     "output_type": "stream",
     "text": [
      "Epoch 3/50, Train Loss: 1.5663, Val Loss: 1.5641\n"
     ]
    },
    {
     "name": "stderr",
     "output_type": "stream",
     "text": [
      "Training Epoch 4/50: 100%|██████████| 750/750 [00:03<00:00, 223.26it/s]\n",
      "Validation Epoch 4/50: 100%|██████████| 188/188 [00:00<00:00, 376.77it/s]\n"
     ]
    },
    {
     "name": "stdout",
     "output_type": "stream",
     "text": [
      "Epoch 4/50, Train Loss: 1.5544, Val Loss: 1.5553\n"
     ]
    },
    {
     "name": "stderr",
     "output_type": "stream",
     "text": [
      "Training Epoch 5/50: 100%|██████████| 750/750 [00:03<00:00, 231.76it/s]\n",
      "Validation Epoch 5/50: 100%|██████████| 188/188 [00:00<00:00, 383.87it/s]\n"
     ]
    },
    {
     "name": "stdout",
     "output_type": "stream",
     "text": [
      "Epoch 5/50, Train Loss: 1.5456, Val Loss: 1.5491\n"
     ]
    },
    {
     "name": "stderr",
     "output_type": "stream",
     "text": [
      "Training Epoch 6/50: 100%|██████████| 750/750 [00:03<00:00, 233.93it/s]\n",
      "Validation Epoch 6/50: 100%|██████████| 188/188 [00:00<00:00, 336.41it/s]\n"
     ]
    },
    {
     "name": "stdout",
     "output_type": "stream",
     "text": [
      "Epoch 6/50, Train Loss: 1.5395, Val Loss: 1.5458\n"
     ]
    },
    {
     "name": "stderr",
     "output_type": "stream",
     "text": [
      "Training Epoch 7/50: 100%|██████████| 750/750 [00:03<00:00, 230.91it/s]\n",
      "Validation Epoch 7/50: 100%|██████████| 188/188 [00:00<00:00, 381.75it/s]\n"
     ]
    },
    {
     "name": "stdout",
     "output_type": "stream",
     "text": [
      "Epoch 7/50, Train Loss: 1.5339, Val Loss: 1.5404\n"
     ]
    },
    {
     "name": "stderr",
     "output_type": "stream",
     "text": [
      "Training Epoch 8/50: 100%|██████████| 750/750 [00:03<00:00, 236.79it/s]\n",
      "Validation Epoch 8/50: 100%|██████████| 188/188 [00:00<00:00, 383.50it/s]\n"
     ]
    },
    {
     "name": "stdout",
     "output_type": "stream",
     "text": [
      "Epoch 8/50, Train Loss: 1.5287, Val Loss: 1.5337\n"
     ]
    },
    {
     "name": "stderr",
     "output_type": "stream",
     "text": [
      "Training Epoch 9/50: 100%|██████████| 750/750 [00:03<00:00, 234.14it/s]\n",
      "Validation Epoch 9/50: 100%|██████████| 188/188 [00:00<00:00, 385.82it/s]\n"
     ]
    },
    {
     "name": "stdout",
     "output_type": "stream",
     "text": [
      "Epoch 9/50, Train Loss: 1.5244, Val Loss: 1.5304\n"
     ]
    },
    {
     "name": "stderr",
     "output_type": "stream",
     "text": [
      "Training Epoch 10/50: 100%|██████████| 750/750 [00:03<00:00, 238.26it/s]\n",
      "Validation Epoch 10/50: 100%|██████████| 188/188 [00:00<00:00, 382.52it/s]\n"
     ]
    },
    {
     "name": "stdout",
     "output_type": "stream",
     "text": [
      "Epoch 10/50, Train Loss: 1.5199, Val Loss: 1.5288\n"
     ]
    },
    {
     "name": "stderr",
     "output_type": "stream",
     "text": [
      "Training Epoch 11/50: 100%|██████████| 750/750 [00:03<00:00, 228.86it/s]\n",
      "Validation Epoch 11/50: 100%|██████████| 188/188 [00:00<00:00, 382.97it/s]\n"
     ]
    },
    {
     "name": "stdout",
     "output_type": "stream",
     "text": [
      "Epoch 11/50, Train Loss: 1.5169, Val Loss: 1.5244\n"
     ]
    },
    {
     "name": "stderr",
     "output_type": "stream",
     "text": [
      "Training Epoch 12/50: 100%|██████████| 750/750 [00:03<00:00, 235.92it/s]\n",
      "Validation Epoch 12/50: 100%|██████████| 188/188 [00:00<00:00, 378.79it/s]\n"
     ]
    },
    {
     "name": "stdout",
     "output_type": "stream",
     "text": [
      "Epoch 12/50, Train Loss: 1.5137, Val Loss: 1.5213\n"
     ]
    },
    {
     "name": "stderr",
     "output_type": "stream",
     "text": [
      "Training Epoch 13/50: 100%|██████████| 750/750 [00:03<00:00, 236.47it/s]\n",
      "Validation Epoch 13/50: 100%|██████████| 188/188 [00:00<00:00, 378.66it/s]\n"
     ]
    },
    {
     "name": "stdout",
     "output_type": "stream",
     "text": [
      "Epoch 13/50, Train Loss: 1.5110, Val Loss: 1.5194\n"
     ]
    },
    {
     "name": "stderr",
     "output_type": "stream",
     "text": [
      "Training Epoch 14/50: 100%|██████████| 750/750 [00:03<00:00, 233.29it/s]\n",
      "Validation Epoch 14/50: 100%|██████████| 188/188 [00:00<00:00, 380.37it/s]\n"
     ]
    },
    {
     "name": "stdout",
     "output_type": "stream",
     "text": [
      "Epoch 14/50, Train Loss: 1.5081, Val Loss: 1.5161\n"
     ]
    },
    {
     "name": "stderr",
     "output_type": "stream",
     "text": [
      "Training Epoch 15/50: 100%|██████████| 750/750 [00:03<00:00, 229.23it/s]\n",
      "Validation Epoch 15/50: 100%|██████████| 188/188 [00:00<00:00, 379.15it/s]\n"
     ]
    },
    {
     "name": "stdout",
     "output_type": "stream",
     "text": [
      "Epoch 15/50, Train Loss: 1.5064, Val Loss: 1.5137\n"
     ]
    },
    {
     "name": "stderr",
     "output_type": "stream",
     "text": [
      "Training Epoch 16/50: 100%|██████████| 750/750 [00:03<00:00, 227.84it/s]\n",
      "Validation Epoch 16/50: 100%|██████████| 188/188 [00:00<00:00, 360.45it/s]\n"
     ]
    },
    {
     "name": "stdout",
     "output_type": "stream",
     "text": [
      "Epoch 16/50, Train Loss: 1.5035, Val Loss: 1.5136\n"
     ]
    },
    {
     "name": "stderr",
     "output_type": "stream",
     "text": [
      "Training Epoch 17/50: 100%|██████████| 750/750 [00:03<00:00, 233.30it/s]\n",
      "Validation Epoch 17/50: 100%|██████████| 188/188 [00:00<00:00, 380.97it/s]\n"
     ]
    },
    {
     "name": "stdout",
     "output_type": "stream",
     "text": [
      "Epoch 17/50, Train Loss: 1.5018, Val Loss: 1.5126\n"
     ]
    },
    {
     "name": "stderr",
     "output_type": "stream",
     "text": [
      "Training Epoch 18/50: 100%|██████████| 750/750 [00:03<00:00, 233.78it/s]\n",
      "Validation Epoch 18/50: 100%|██████████| 188/188 [00:00<00:00, 328.48it/s]\n"
     ]
    },
    {
     "name": "stdout",
     "output_type": "stream",
     "text": [
      "Epoch 18/50, Train Loss: 1.4999, Val Loss: 1.5100\n"
     ]
    },
    {
     "name": "stderr",
     "output_type": "stream",
     "text": [
      "Training Epoch 19/50: 100%|██████████| 750/750 [00:03<00:00, 234.77it/s]\n",
      "Validation Epoch 19/50: 100%|██████████| 188/188 [00:00<00:00, 370.50it/s]\n"
     ]
    },
    {
     "name": "stdout",
     "output_type": "stream",
     "text": [
      "Epoch 19/50, Train Loss: 1.4981, Val Loss: 1.5090\n"
     ]
    },
    {
     "name": "stderr",
     "output_type": "stream",
     "text": [
      "Training Epoch 20/50: 100%|██████████| 750/750 [00:03<00:00, 234.55it/s]\n",
      "Validation Epoch 20/50: 100%|██████████| 188/188 [00:00<00:00, 372.73it/s]\n"
     ]
    },
    {
     "name": "stdout",
     "output_type": "stream",
     "text": [
      "Epoch 20/50, Train Loss: 1.4963, Val Loss: 1.5075\n"
     ]
    },
    {
     "name": "stderr",
     "output_type": "stream",
     "text": [
      "Training Epoch 21/50: 100%|██████████| 750/750 [00:03<00:00, 224.97it/s]\n",
      "Validation Epoch 21/50: 100%|██████████| 188/188 [00:00<00:00, 369.90it/s]\n"
     ]
    },
    {
     "name": "stdout",
     "output_type": "stream",
     "text": [
      "Epoch 21/50, Train Loss: 1.4948, Val Loss: 1.5041\n"
     ]
    },
    {
     "name": "stderr",
     "output_type": "stream",
     "text": [
      "Training Epoch 22/50: 100%|██████████| 750/750 [00:03<00:00, 232.13it/s]\n",
      "Validation Epoch 22/50: 100%|██████████| 188/188 [00:00<00:00, 375.01it/s]\n"
     ]
    },
    {
     "name": "stdout",
     "output_type": "stream",
     "text": [
      "Epoch 22/50, Train Loss: 1.4931, Val Loss: 1.5040\n"
     ]
    },
    {
     "name": "stderr",
     "output_type": "stream",
     "text": [
      "Training Epoch 23/50: 100%|██████████| 750/750 [00:03<00:00, 228.17it/s]\n",
      "Validation Epoch 23/50: 100%|██████████| 188/188 [00:00<00:00, 370.78it/s]\n"
     ]
    },
    {
     "name": "stdout",
     "output_type": "stream",
     "text": [
      "Epoch 23/50, Train Loss: 1.4917, Val Loss: 1.5025\n"
     ]
    },
    {
     "name": "stderr",
     "output_type": "stream",
     "text": [
      "Training Epoch 24/50: 100%|██████████| 750/750 [00:03<00:00, 223.83it/s]\n",
      "Validation Epoch 24/50: 100%|██████████| 188/188 [00:00<00:00, 369.66it/s]\n"
     ]
    },
    {
     "name": "stdout",
     "output_type": "stream",
     "text": [
      "Epoch 24/50, Train Loss: 1.4907, Val Loss: 1.5012\n"
     ]
    },
    {
     "name": "stderr",
     "output_type": "stream",
     "text": [
      "Training Epoch 25/50: 100%|██████████| 750/750 [00:03<00:00, 230.46it/s]\n",
      "Validation Epoch 25/50: 100%|██████████| 188/188 [00:00<00:00, 334.54it/s]\n"
     ]
    },
    {
     "name": "stdout",
     "output_type": "stream",
     "text": [
      "Epoch 25/50, Train Loss: 1.4890, Val Loss: 1.5004\n"
     ]
    },
    {
     "name": "stderr",
     "output_type": "stream",
     "text": [
      "Training Epoch 26/50: 100%|██████████| 750/750 [00:03<00:00, 234.45it/s]\n",
      "Validation Epoch 26/50: 100%|██████████| 188/188 [00:00<00:00, 375.16it/s]\n"
     ]
    },
    {
     "name": "stdout",
     "output_type": "stream",
     "text": [
      "Epoch 26/50, Train Loss: 1.4880, Val Loss: 1.4984\n"
     ]
    },
    {
     "name": "stderr",
     "output_type": "stream",
     "text": [
      "Training Epoch 27/50: 100%|██████████| 750/750 [00:03<00:00, 232.47it/s]\n",
      "Validation Epoch 27/50: 100%|██████████| 188/188 [00:00<00:00, 369.94it/s]\n"
     ]
    },
    {
     "name": "stdout",
     "output_type": "stream",
     "text": [
      "Epoch 27/50, Train Loss: 1.4872, Val Loss: 1.5005\n"
     ]
    },
    {
     "name": "stderr",
     "output_type": "stream",
     "text": [
      "Training Epoch 28/50: 100%|██████████| 750/750 [00:03<00:00, 231.69it/s]\n",
      "Validation Epoch 28/50: 100%|██████████| 188/188 [00:00<00:00, 356.05it/s]\n"
     ]
    },
    {
     "name": "stdout",
     "output_type": "stream",
     "text": [
      "Epoch 28/50, Train Loss: 1.4860, Val Loss: 1.4998\n"
     ]
    },
    {
     "name": "stderr",
     "output_type": "stream",
     "text": [
      "Training Epoch 29/50: 100%|██████████| 750/750 [00:03<00:00, 234.69it/s]\n",
      "Validation Epoch 29/50: 100%|██████████| 188/188 [00:00<00:00, 373.07it/s]\n"
     ]
    },
    {
     "name": "stdout",
     "output_type": "stream",
     "text": [
      "Epoch 29/50, Train Loss: 1.4849, Val Loss: 1.4992\n"
     ]
    },
    {
     "name": "stderr",
     "output_type": "stream",
     "text": [
      "Training Epoch 30/50: 100%|██████████| 750/750 [00:03<00:00, 229.97it/s]\n",
      "Validation Epoch 30/50: 100%|██████████| 188/188 [00:00<00:00, 366.27it/s]\n"
     ]
    },
    {
     "name": "stdout",
     "output_type": "stream",
     "text": [
      "Epoch 30/50, Train Loss: 1.4839, Val Loss: 1.5019\n"
     ]
    },
    {
     "name": "stderr",
     "output_type": "stream",
     "text": [
      "Training Epoch 31/50: 100%|██████████| 750/750 [00:03<00:00, 234.32it/s]\n",
      "Validation Epoch 31/50: 100%|██████████| 188/188 [00:00<00:00, 371.68it/s]\n"
     ]
    },
    {
     "name": "stdout",
     "output_type": "stream",
     "text": [
      "Epoch 31/50, Train Loss: 1.4831, Val Loss: 1.4964\n"
     ]
    },
    {
     "name": "stderr",
     "output_type": "stream",
     "text": [
      "Training Epoch 32/50: 100%|██████████| 750/750 [00:03<00:00, 232.04it/s]\n",
      "Validation Epoch 32/50: 100%|██████████| 188/188 [00:00<00:00, 372.64it/s]\n"
     ]
    },
    {
     "name": "stdout",
     "output_type": "stream",
     "text": [
      "Epoch 32/50, Train Loss: 1.4825, Val Loss: 1.4968\n"
     ]
    },
    {
     "name": "stderr",
     "output_type": "stream",
     "text": [
      "Training Epoch 33/50: 100%|██████████| 750/750 [00:03<00:00, 229.55it/s]\n",
      "Validation Epoch 33/50: 100%|██████████| 188/188 [00:00<00:00, 366.41it/s]\n"
     ]
    },
    {
     "name": "stdout",
     "output_type": "stream",
     "text": [
      "Epoch 33/50, Train Loss: 1.4818, Val Loss: 1.4958\n"
     ]
    },
    {
     "name": "stderr",
     "output_type": "stream",
     "text": [
      "Training Epoch 34/50: 100%|██████████| 750/750 [00:03<00:00, 225.80it/s]\n",
      "Validation Epoch 34/50: 100%|██████████| 188/188 [00:00<00:00, 369.15it/s]\n"
     ]
    },
    {
     "name": "stdout",
     "output_type": "stream",
     "text": [
      "Epoch 34/50, Train Loss: 1.4812, Val Loss: 1.4948\n"
     ]
    },
    {
     "name": "stderr",
     "output_type": "stream",
     "text": [
      "Training Epoch 35/50: 100%|██████████| 750/750 [00:03<00:00, 228.02it/s]\n",
      "Validation Epoch 35/50: 100%|██████████| 188/188 [00:00<00:00, 372.50it/s]\n"
     ]
    },
    {
     "name": "stdout",
     "output_type": "stream",
     "text": [
      "Epoch 35/50, Train Loss: 1.4806, Val Loss: 1.4950\n"
     ]
    },
    {
     "name": "stderr",
     "output_type": "stream",
     "text": [
      "Training Epoch 36/50: 100%|██████████| 750/750 [00:03<00:00, 231.36it/s]\n",
      "Validation Epoch 36/50: 100%|██████████| 188/188 [00:00<00:00, 354.46it/s]\n"
     ]
    },
    {
     "name": "stdout",
     "output_type": "stream",
     "text": [
      "Epoch 36/50, Train Loss: 1.4794, Val Loss: 1.4953\n"
     ]
    },
    {
     "name": "stderr",
     "output_type": "stream",
     "text": [
      "Training Epoch 37/50: 100%|██████████| 750/750 [00:03<00:00, 233.00it/s]\n",
      "Validation Epoch 37/50: 100%|██████████| 188/188 [00:00<00:00, 332.73it/s]\n"
     ]
    },
    {
     "name": "stdout",
     "output_type": "stream",
     "text": [
      "Epoch 37/50, Train Loss: 1.4790, Val Loss: 1.4940\n"
     ]
    },
    {
     "name": "stderr",
     "output_type": "stream",
     "text": [
      "Training Epoch 38/50: 100%|██████████| 750/750 [00:03<00:00, 231.92it/s]\n",
      "Validation Epoch 38/50: 100%|██████████| 188/188 [00:00<00:00, 370.05it/s]\n"
     ]
    },
    {
     "name": "stdout",
     "output_type": "stream",
     "text": [
      "Epoch 38/50, Train Loss: 1.4785, Val Loss: 1.4930\n"
     ]
    },
    {
     "name": "stderr",
     "output_type": "stream",
     "text": [
      "Training Epoch 39/50: 100%|██████████| 750/750 [00:03<00:00, 232.96it/s]\n",
      "Validation Epoch 39/50: 100%|██████████| 188/188 [00:00<00:00, 369.04it/s]\n"
     ]
    },
    {
     "name": "stdout",
     "output_type": "stream",
     "text": [
      "Epoch 39/50, Train Loss: 1.4782, Val Loss: 1.4955\n"
     ]
    },
    {
     "name": "stderr",
     "output_type": "stream",
     "text": [
      "Training Epoch 40/50: 100%|██████████| 750/750 [00:03<00:00, 230.19it/s]\n",
      "Validation Epoch 40/50: 100%|██████████| 188/188 [00:00<00:00, 367.66it/s]\n"
     ]
    },
    {
     "name": "stdout",
     "output_type": "stream",
     "text": [
      "Epoch 40/50, Train Loss: 1.4777, Val Loss: 1.4916\n"
     ]
    },
    {
     "name": "stderr",
     "output_type": "stream",
     "text": [
      "Training Epoch 41/50: 100%|██████████| 750/750 [00:03<00:00, 222.52it/s]\n",
      "Validation Epoch 41/50: 100%|██████████| 188/188 [00:00<00:00, 371.11it/s]\n"
     ]
    },
    {
     "name": "stdout",
     "output_type": "stream",
     "text": [
      "Epoch 41/50, Train Loss: 1.4774, Val Loss: 1.4927\n"
     ]
    },
    {
     "name": "stderr",
     "output_type": "stream",
     "text": [
      "Training Epoch 42/50: 100%|██████████| 750/750 [00:03<00:00, 226.47it/s]\n",
      "Validation Epoch 42/50: 100%|██████████| 188/188 [00:00<00:00, 366.85it/s]\n"
     ]
    },
    {
     "name": "stdout",
     "output_type": "stream",
     "text": [
      "Epoch 42/50, Train Loss: 1.4767, Val Loss: 1.4913\n"
     ]
    },
    {
     "name": "stderr",
     "output_type": "stream",
     "text": [
      "Training Epoch 43/50: 100%|██████████| 750/750 [00:03<00:00, 231.45it/s]\n",
      "Validation Epoch 43/50: 100%|██████████| 188/188 [00:00<00:00, 362.58it/s]\n"
     ]
    },
    {
     "name": "stdout",
     "output_type": "stream",
     "text": [
      "Epoch 43/50, Train Loss: 1.4763, Val Loss: 1.4936\n"
     ]
    },
    {
     "name": "stderr",
     "output_type": "stream",
     "text": [
      "Training Epoch 44/50: 100%|██████████| 750/750 [00:03<00:00, 228.21it/s]\n",
      "Validation Epoch 44/50: 100%|██████████| 188/188 [00:00<00:00, 350.96it/s]\n"
     ]
    },
    {
     "name": "stdout",
     "output_type": "stream",
     "text": [
      "Epoch 44/50, Train Loss: 1.4758, Val Loss: 1.4922\n"
     ]
    },
    {
     "name": "stderr",
     "output_type": "stream",
     "text": [
      "Training Epoch 45/50: 100%|██████████| 750/750 [00:03<00:00, 224.28it/s]\n",
      "Validation Epoch 45/50: 100%|██████████| 188/188 [00:00<00:00, 356.25it/s]\n"
     ]
    },
    {
     "name": "stdout",
     "output_type": "stream",
     "text": [
      "Epoch 45/50, Train Loss: 1.4759, Val Loss: 1.4913\n"
     ]
    },
    {
     "name": "stderr",
     "output_type": "stream",
     "text": [
      "Training Epoch 46/50: 100%|██████████| 750/750 [00:03<00:00, 227.92it/s]\n",
      "Validation Epoch 46/50: 100%|██████████| 188/188 [00:00<00:00, 360.25it/s]\n"
     ]
    },
    {
     "name": "stdout",
     "output_type": "stream",
     "text": [
      "Epoch 46/50, Train Loss: 1.4753, Val Loss: 1.4916\n"
     ]
    },
    {
     "name": "stderr",
     "output_type": "stream",
     "text": [
      "Training Epoch 47/50: 100%|██████████| 750/750 [00:03<00:00, 217.44it/s]\n",
      "Validation Epoch 47/50: 100%|██████████| 188/188 [00:00<00:00, 342.94it/s]\n"
     ]
    },
    {
     "name": "stdout",
     "output_type": "stream",
     "text": [
      "Epoch 47/50, Train Loss: 1.4750, Val Loss: 1.4918\n"
     ]
    },
    {
     "name": "stderr",
     "output_type": "stream",
     "text": [
      "Training Epoch 48/50: 100%|██████████| 750/750 [00:03<00:00, 227.60it/s]\n",
      "Validation Epoch 48/50: 100%|██████████| 188/188 [00:00<00:00, 352.37it/s]\n"
     ]
    },
    {
     "name": "stdout",
     "output_type": "stream",
     "text": [
      "Epoch 48/50, Train Loss: 1.4741, Val Loss: 1.4919\n"
     ]
    },
    {
     "name": "stderr",
     "output_type": "stream",
     "text": [
      "Training Epoch 49/50: 100%|██████████| 750/750 [00:03<00:00, 225.89it/s]\n",
      "Validation Epoch 49/50: 100%|██████████| 188/188 [00:00<00:00, 314.74it/s]\n"
     ]
    },
    {
     "name": "stdout",
     "output_type": "stream",
     "text": [
      "Epoch 49/50, Train Loss: 1.4745, Val Loss: 1.4935\n"
     ]
    },
    {
     "name": "stderr",
     "output_type": "stream",
     "text": [
      "Training Epoch 50/50: 100%|██████████| 750/750 [00:03<00:00, 225.35it/s]\n",
      "Validation Epoch 50/50: 100%|██████████| 188/188 [00:00<00:00, 350.05it/s]\n"
     ]
    },
    {
     "name": "stdout",
     "output_type": "stream",
     "text": [
      "Epoch 50/50, Train Loss: 1.4739, Val Loss: 1.4918\n"
     ]
    },
    {
     "data": {
      "image/png": "[encoded data removed]",
      "text/plain": [
       "<Figure size 1000x600 with 1 Axes>"
      ]
     },
     "metadata": {},
     "output_type": "display_data"
    },
    {
     "name": "stdout",
     "output_type": "stream",
     "text": [
      "Test Loss: 1.4897\n",
      "Test Accuracy: 0.9721\n",
      "Test F1 Score: 0.9721\n",
      "Test Loss: 1.4897\n",
      "Test Accuracy: 0.9721\n",
      "Test F1 Score: 0.9721\n"
     ]
    }
   ],
   "source": [
    "# Unpack model configuration\n",
    "input_dim = model_1_config[\"input_dim\"]\n",
    "hidden_dim = model_1_config[\"hidden_dim\"]\n",
    "out_dim = model_1_config[\"out_dim\"]\n",
    "num_layers = model_1_config[\"num_layers\"]\n",
    "dropout = model_1_config[\"dropout\"]\n",
    "dropout_p = model_1_config[\"dropout_p\"]\n",
    "\n",
    "# Initialize the model\n",
    "model = MyModel(\n",
    "    input_dim=input_dim,\n",
    "    hidden_dims=[hidden_dim] * num_layers,  # Create hidden layers dynamically\n",
    "    output_dim=out_dim,\n",
    "    dropout_probs=[dropout_p if d else 0 for d in dropout]\n",
    ")\n",
    "\n",
    "# Define loss function and optimizer\n",
    "criterion = nn.CrossEntropyLoss()\n",
    "optimizer = optim.Adam(model.parameters(), lr=learning_rate, weight_decay=weight_decay)\n",
    "\n",
    "# Train the model\n",
    "trained_model, train_losses, val_losses = trainer(\n",
    "    model=model,\n",
    "    train_loader=train_dl,\n",
    "    val_loader=val_dl,\n",
    "    criterion=criterion,\n",
    "    optimizer=optimizer,\n",
    "    epochs=50,  # Maximum number of epochs\n",
    "    early_stopping=False,  # No early stopping for this experiment\n",
    "    patience=10  # Not used since early stopping is disabled\n",
    ")\n",
    "\n",
    "# Plot training and validation losses\n",
    "plot_losses(train_losses, val_losses)\n",
    "\n",
    "# Evaluate the model on the test dataset\n",
    "test_loss, test_accuracy, test_f1 = evaluate_model(trained_model, test_dl, criterion)\n",
    "\n",
    "# Print test evaluation metrics\n",
    "print(f\"Test Loss: {test_loss:.4f}\")\n",
    "print(f\"Test Accuracy: {test_accuracy:.4f}\")\n",
    "print(f\"Test F1 Score: {test_f1:.4f}\")\n",
    "\n",
    "m1_acc = test_accuracy\n",
    "m1_f1 = test_f1"
   ]
  },
  {
   "cell_type": "markdown",
   "metadata": {
    "id": "4h95zrpJbMsI"
   },
   "source": [
    "### Experiment 2: Deep regularized network (with weight-decay enabled)\n",
    "\n",
    "Use the given model configs to run the experiments."
   ]
  },
  {
   "cell_type": "code",
   "execution_count": 25,
   "metadata": {
    "id": "rK6bMkMcbLFF"
   },
   "outputs": [],
   "source": [
    "# Deep network (3 hidden layers) with weight-decay but no dropout\n",
    "model_2_config = {\n",
    "    \"input_dim\": 28 * 28,\n",
    "    \"hidden_dim\": 400,\n",
    "    \"out_dim\": 10,\n",
    "    \"num_layers\": 3,\n",
    "    \"dropout\": [False, False, False],\n",
    "    \"dropout_p\": 0.5\n",
    "}\n",
    "\n",
    "\n",
    "learning_rate = 5e-5\n",
    "weight_decay = 1e-4  # Use this only if weight-decay is needed"
   ]
  },
  {
   "cell_type": "code",
   "execution_count": 26,
   "metadata": {
    "id": "P-N_sB79bg4P"
   },
   "outputs": [
    {
     "name": "stderr",
     "output_type": "stream",
     "text": [
      "Training Epoch 1/50: 100%|██████████| 750/750 [00:03<00:00, 213.29it/s]\n",
      "Validation Epoch 1/50: 100%|██████████| 188/188 [00:00<00:00, 350.83it/s]\n"
     ]
    },
    {
     "name": "stdout",
     "output_type": "stream",
     "text": [
      "Epoch 1/50, Train Loss: 1.8076, Val Loss: 1.6267\n"
     ]
    },
    {
     "name": "stderr",
     "output_type": "stream",
     "text": [
      "Training Epoch 2/50: 100%|██████████| 750/750 [00:03<00:00, 216.60it/s]\n",
      "Validation Epoch 2/50: 100%|██████████| 188/188 [00:00<00:00, 342.87it/s]\n"
     ]
    },
    {
     "name": "stdout",
     "output_type": "stream",
     "text": [
      "Epoch 2/50, Train Loss: 1.5901, Val Loss: 1.5762\n"
     ]
    },
    {
     "name": "stderr",
     "output_type": "stream",
     "text": [
      "Training Epoch 3/50: 100%|██████████| 750/750 [00:03<00:00, 210.00it/s]\n",
      "Validation Epoch 3/50: 100%|██████████| 188/188 [00:00<00:00, 338.72it/s]\n"
     ]
    },
    {
     "name": "stdout",
     "output_type": "stream",
     "text": [
      "Epoch 3/50, Train Loss: 1.5671, Val Loss: 1.5615\n"
     ]
    },
    {
     "name": "stderr",
     "output_type": "stream",
     "text": [
      "Training Epoch 4/50: 100%|██████████| 750/750 [00:03<00:00, 208.14it/s]\n",
      "Validation Epoch 4/50: 100%|██████████| 188/188 [00:00<00:00, 330.70it/s]\n"
     ]
    },
    {
     "name": "stdout",
     "output_type": "stream",
     "text": [
      "Epoch 4/50, Train Loss: 1.5556, Val Loss: 1.5569\n"
     ]
    },
    {
     "name": "stderr",
     "output_type": "stream",
     "text": [
      "Training Epoch 5/50: 100%|██████████| 750/750 [00:03<00:00, 205.28it/s]\n",
      "Validation Epoch 5/50: 100%|██████████| 188/188 [00:00<00:00, 320.35it/s]\n"
     ]
    },
    {
     "name": "stdout",
     "output_type": "stream",
     "text": [
      "Epoch 5/50, Train Loss: 1.5482, Val Loss: 1.5512\n"
     ]
    },
    {
     "name": "stderr",
     "output_type": "stream",
     "text": [
      "Training Epoch 6/50: 100%|██████████| 750/750 [00:03<00:00, 202.29it/s]\n",
      "Validation Epoch 6/50: 100%|██████████| 188/188 [00:00<00:00, 312.21it/s]\n"
     ]
    },
    {
     "name": "stdout",
     "output_type": "stream",
     "text": [
      "Epoch 6/50, Train Loss: 1.5417, Val Loss: 1.5452\n"
     ]
    },
    {
     "name": "stderr",
     "output_type": "stream",
     "text": [
      "Training Epoch 7/50: 100%|██████████| 750/750 [00:03<00:00, 192.28it/s]\n",
      "Validation Epoch 7/50: 100%|██████████| 188/188 [00:00<00:00, 301.01it/s]\n"
     ]
    },
    {
     "name": "stdout",
     "output_type": "stream",
     "text": [
      "Epoch 7/50, Train Loss: 1.5374, Val Loss: 1.5419\n"
     ]
    },
    {
     "name": "stderr",
     "output_type": "stream",
     "text": [
      "Training Epoch 8/50: 100%|██████████| 750/750 [00:03<00:00, 192.99it/s]\n",
      "Validation Epoch 8/50: 100%|██████████| 188/188 [00:00<00:00, 290.14it/s]\n"
     ]
    },
    {
     "name": "stdout",
     "output_type": "stream",
     "text": [
      "Epoch 8/50, Train Loss: 1.5327, Val Loss: 1.5387\n"
     ]
    },
    {
     "name": "stderr",
     "output_type": "stream",
     "text": [
      "Training Epoch 9/50: 100%|██████████| 750/750 [00:04<00:00, 182.64it/s]\n",
      "Validation Epoch 9/50: 100%|██████████| 188/188 [00:00<00:00, 284.82it/s]\n"
     ]
    },
    {
     "name": "stdout",
     "output_type": "stream",
     "text": [
      "Epoch 9/50, Train Loss: 1.5282, Val Loss: 1.5399\n"
     ]
    },
    {
     "name": "stderr",
     "output_type": "stream",
     "text": [
      "Training Epoch 10/50: 100%|██████████| 750/750 [00:04<00:00, 184.34it/s]\n",
      "Validation Epoch 10/50: 100%|██████████| 188/188 [00:00<00:00, 280.58it/s]\n"
     ]
    },
    {
     "name": "stdout",
     "output_type": "stream",
     "text": [
      "Epoch 10/50, Train Loss: 1.5250, Val Loss: 1.5311\n"
     ]
    },
    {
     "name": "stderr",
     "output_type": "stream",
     "text": [
      "Training Epoch 11/50: 100%|██████████| 750/750 [00:04<00:00, 176.36it/s]\n",
      "Validation Epoch 11/50: 100%|██████████| 188/188 [00:00<00:00, 267.91it/s]\n"
     ]
    },
    {
     "name": "stdout",
     "output_type": "stream",
     "text": [
      "Epoch 11/50, Train Loss: 1.5217, Val Loss: 1.5317\n"
     ]
    },
    {
     "name": "stderr",
     "output_type": "stream",
     "text": [
      "Training Epoch 12/50: 100%|██████████| 750/750 [00:04<00:00, 177.63it/s]\n",
      "Validation Epoch 12/50: 100%|██████████| 188/188 [00:00<00:00, 268.91it/s]\n"
     ]
    },
    {
     "name": "stdout",
     "output_type": "stream",
     "text": [
      "Epoch 12/50, Train Loss: 1.5181, Val Loss: 1.5266\n"
     ]
    },
    {
     "name": "stderr",
     "output_type": "stream",
     "text": [
      "Training Epoch 13/50: 100%|██████████| 750/750 [00:04<00:00, 171.65it/s]\n",
      "Validation Epoch 13/50: 100%|██████████| 188/188 [00:00<00:00, 266.36it/s]\n"
     ]
    },
    {
     "name": "stdout",
     "output_type": "stream",
     "text": [
      "Epoch 13/50, Train Loss: 1.5155, Val Loss: 1.5260\n"
     ]
    },
    {
     "name": "stderr",
     "output_type": "stream",
     "text": [
      "Training Epoch 14/50: 100%|██████████| 750/750 [00:04<00:00, 173.51it/s]\n",
      "Validation Epoch 14/50: 100%|██████████| 188/188 [00:00<00:00, 263.56it/s]\n"
     ]
    },
    {
     "name": "stdout",
     "output_type": "stream",
     "text": [
      "Epoch 14/50, Train Loss: 1.5134, Val Loss: 1.5239\n"
     ]
    },
    {
     "name": "stderr",
     "output_type": "stream",
     "text": [
      "Training Epoch 15/50: 100%|██████████| 750/750 [00:04<00:00, 172.76it/s]\n",
      "Validation Epoch 15/50: 100%|██████████| 188/188 [00:00<00:00, 237.17it/s]\n"
     ]
    },
    {
     "name": "stdout",
     "output_type": "stream",
     "text": [
      "Epoch 15/50, Train Loss: 1.5114, Val Loss: 1.5209\n"
     ]
    },
    {
     "name": "stderr",
     "output_type": "stream",
     "text": [
      "Training Epoch 16/50: 100%|██████████| 750/750 [00:04<00:00, 173.12it/s]\n",
      "Validation Epoch 16/50: 100%|██████████| 188/188 [00:00<00:00, 266.96it/s]\n"
     ]
    },
    {
     "name": "stdout",
     "output_type": "stream",
     "text": [
      "Epoch 16/50, Train Loss: 1.5092, Val Loss: 1.5172\n"
     ]
    },
    {
     "name": "stderr",
     "output_type": "stream",
     "text": [
      "Training Epoch 17/50: 100%|██████████| 750/750 [00:04<00:00, 173.18it/s]\n",
      "Validation Epoch 17/50: 100%|██████████| 188/188 [00:00<00:00, 268.31it/s]\n"
     ]
    },
    {
     "name": "stdout",
     "output_type": "stream",
     "text": [
      "Epoch 17/50, Train Loss: 1.5064, Val Loss: 1.5197\n"
     ]
    },
    {
     "name": "stderr",
     "output_type": "stream",
     "text": [
      "Training Epoch 18/50: 100%|██████████| 750/750 [00:04<00:00, 172.24it/s]\n",
      "Validation Epoch 18/50: 100%|██████████| 188/188 [00:00<00:00, 269.16it/s]\n"
     ]
    },
    {
     "name": "stdout",
     "output_type": "stream",
     "text": [
      "Epoch 18/50, Train Loss: 1.5048, Val Loss: 1.5141\n"
     ]
    },
    {
     "name": "stderr",
     "output_type": "stream",
     "text": [
      "Training Epoch 19/50: 100%|██████████| 750/750 [00:04<00:00, 180.02it/s]\n",
      "Validation Epoch 19/50: 100%|██████████| 188/188 [00:00<00:00, 277.10it/s]\n"
     ]
    },
    {
     "name": "stdout",
     "output_type": "stream",
     "text": [
      "Epoch 19/50, Train Loss: 1.5029, Val Loss: 1.5146\n"
     ]
    },
    {
     "name": "stderr",
     "output_type": "stream",
     "text": [
      "Training Epoch 20/50: 100%|██████████| 750/750 [00:04<00:00, 173.47it/s]\n",
      "Validation Epoch 20/50: 100%|██████████| 188/188 [00:00<00:00, 277.99it/s]\n"
     ]
    },
    {
     "name": "stdout",
     "output_type": "stream",
     "text": [
      "Epoch 20/50, Train Loss: 1.5010, Val Loss: 1.5128\n"
     ]
    },
    {
     "name": "stderr",
     "output_type": "stream",
     "text": [
      "Training Epoch 21/50: 100%|██████████| 750/750 [00:04<00:00, 184.19it/s]\n",
      "Validation Epoch 21/50: 100%|██████████| 188/188 [00:00<00:00, 286.10it/s]\n"
     ]
    },
    {
     "name": "stdout",
     "output_type": "stream",
     "text": [
      "Epoch 21/50, Train Loss: 1.4992, Val Loss: 1.5101\n"
     ]
    },
    {
     "name": "stderr",
     "output_type": "stream",
     "text": [
      "Training Epoch 22/50: 100%|██████████| 750/750 [00:03<00:00, 187.59it/s]\n",
      "Validation Epoch 22/50: 100%|██████████| 188/188 [00:00<00:00, 253.43it/s]\n"
     ]
    },
    {
     "name": "stdout",
     "output_type": "stream",
     "text": [
      "Epoch 22/50, Train Loss: 1.4978, Val Loss: 1.5097\n"
     ]
    },
    {
     "name": "stderr",
     "output_type": "stream",
     "text": [
      "Training Epoch 23/50: 100%|██████████| 750/750 [00:03<00:00, 187.69it/s]\n",
      "Validation Epoch 23/50: 100%|██████████| 188/188 [00:00<00:00, 291.03it/s]\n"
     ]
    },
    {
     "name": "stdout",
     "output_type": "stream",
     "text": [
      "Epoch 23/50, Train Loss: 1.4958, Val Loss: 1.5091\n"
     ]
    },
    {
     "name": "stderr",
     "output_type": "stream",
     "text": [
      "Training Epoch 24/50: 100%|██████████| 750/750 [00:03<00:00, 189.27it/s]\n",
      "Validation Epoch 24/50: 100%|██████████| 188/188 [00:00<00:00, 291.59it/s]\n"
     ]
    },
    {
     "name": "stdout",
     "output_type": "stream",
     "text": [
      "Epoch 24/50, Train Loss: 1.4945, Val Loss: 1.5069\n"
     ]
    },
    {
     "name": "stderr",
     "output_type": "stream",
     "text": [
      "Training Epoch 25/50: 100%|██████████| 750/750 [00:03<00:00, 188.41it/s]\n",
      "Validation Epoch 25/50: 100%|██████████| 188/188 [00:00<00:00, 296.07it/s]\n"
     ]
    },
    {
     "name": "stdout",
     "output_type": "stream",
     "text": [
      "Epoch 25/50, Train Loss: 1.4935, Val Loss: 1.5054\n"
     ]
    },
    {
     "name": "stderr",
     "output_type": "stream",
     "text": [
      "Training Epoch 26/50: 100%|██████████| 750/750 [00:03<00:00, 194.03it/s]\n",
      "Validation Epoch 26/50: 100%|██████████| 188/188 [00:00<00:00, 299.45it/s]\n"
     ]
    },
    {
     "name": "stdout",
     "output_type": "stream",
     "text": [
      "Epoch 26/50, Train Loss: 1.4918, Val Loss: 1.5081\n"
     ]
    },
    {
     "name": "stderr",
     "output_type": "stream",
     "text": [
      "Training Epoch 27/50: 100%|██████████| 750/750 [00:03<00:00, 191.98it/s]\n",
      "Validation Epoch 27/50: 100%|██████████| 188/188 [00:00<00:00, 303.07it/s]\n"
     ]
    },
    {
     "name": "stdout",
     "output_type": "stream",
     "text": [
      "Epoch 27/50, Train Loss: 1.4906, Val Loss: 1.5047\n"
     ]
    },
    {
     "name": "stderr",
     "output_type": "stream",
     "text": [
      "Training Epoch 28/50: 100%|██████████| 750/750 [00:03<00:00, 197.54it/s]\n",
      "Validation Epoch 28/50: 100%|██████████| 188/188 [00:00<00:00, 303.98it/s]\n"
     ]
    },
    {
     "name": "stdout",
     "output_type": "stream",
     "text": [
      "Epoch 28/50, Train Loss: 1.4898, Val Loss: 1.5013\n"
     ]
    },
    {
     "name": "stderr",
     "output_type": "stream",
     "text": [
      "Training Epoch 29/50: 100%|██████████| 750/750 [00:03<00:00, 199.08it/s]\n",
      "Validation Epoch 29/50: 100%|██████████| 188/188 [00:00<00:00, 306.60it/s]\n"
     ]
    },
    {
     "name": "stdout",
     "output_type": "stream",
     "text": [
      "Epoch 29/50, Train Loss: 1.4885, Val Loss: 1.5037\n"
     ]
    },
    {
     "name": "stderr",
     "output_type": "stream",
     "text": [
      "Training Epoch 30/50: 100%|██████████| 750/750 [00:03<00:00, 195.88it/s]\n",
      "Validation Epoch 30/50: 100%|██████████| 188/188 [00:00<00:00, 313.50it/s]\n"
     ]
    },
    {
     "name": "stdout",
     "output_type": "stream",
     "text": [
      "Epoch 30/50, Train Loss: 1.4878, Val Loss: 1.4997\n"
     ]
    },
    {
     "name": "stderr",
     "output_type": "stream",
     "text": [
      "Training Epoch 31/50: 100%|██████████| 750/750 [00:03<00:00, 201.99it/s]\n",
      "Validation Epoch 31/50: 100%|██████████| 188/188 [00:00<00:00, 317.70it/s]\n"
     ]
    },
    {
     "name": "stdout",
     "output_type": "stream",
     "text": [
      "Epoch 31/50, Train Loss: 1.4862, Val Loss: 1.5002\n"
     ]
    },
    {
     "name": "stderr",
     "output_type": "stream",
     "text": [
      "Training Epoch 32/50: 100%|██████████| 750/750 [00:03<00:00, 195.70it/s]\n",
      "Validation Epoch 32/50: 100%|██████████| 188/188 [00:00<00:00, 320.14it/s]\n"
     ]
    },
    {
     "name": "stdout",
     "output_type": "stream",
     "text": [
      "Epoch 32/50, Train Loss: 1.4853, Val Loss: 1.4983\n"
     ]
    },
    {
     "name": "stderr",
     "output_type": "stream",
     "text": [
      "Training Epoch 33/50: 100%|██████████| 750/750 [00:03<00:00, 203.39it/s]\n",
      "Validation Epoch 33/50: 100%|██████████| 188/188 [00:00<00:00, 318.99it/s]\n"
     ]
    },
    {
     "name": "stdout",
     "output_type": "stream",
     "text": [
      "Epoch 33/50, Train Loss: 1.4846, Val Loss: 1.5009\n"
     ]
    },
    {
     "name": "stderr",
     "output_type": "stream",
     "text": [
      "Training Epoch 34/50: 100%|██████████| 750/750 [00:03<00:00, 202.46it/s]\n",
      "Validation Epoch 34/50: 100%|██████████| 188/188 [00:00<00:00, 321.08it/s]\n"
     ]
    },
    {
     "name": "stdout",
     "output_type": "stream",
     "text": [
      "Epoch 34/50, Train Loss: 1.4840, Val Loss: 1.4972\n"
     ]
    },
    {
     "name": "stderr",
     "output_type": "stream",
     "text": [
      "Training Epoch 35/50: 100%|██████████| 750/750 [00:03<00:00, 200.09it/s]\n",
      "Validation Epoch 35/50: 100%|██████████| 188/188 [00:00<00:00, 317.46it/s]\n"
     ]
    },
    {
     "name": "stdout",
     "output_type": "stream",
     "text": [
      "Epoch 35/50, Train Loss: 1.4831, Val Loss: 1.4980\n"
     ]
    },
    {
     "name": "stderr",
     "output_type": "stream",
     "text": [
      "Training Epoch 36/50: 100%|██████████| 750/750 [00:03<00:00, 205.33it/s]\n",
      "Validation Epoch 36/50: 100%|██████████| 188/188 [00:00<00:00, 323.13it/s]\n"
     ]
    },
    {
     "name": "stdout",
     "output_type": "stream",
     "text": [
      "Epoch 36/50, Train Loss: 1.4824, Val Loss: 1.4951\n"
     ]
    },
    {
     "name": "stderr",
     "output_type": "stream",
     "text": [
      "Training Epoch 37/50: 100%|██████████| 750/750 [00:03<00:00, 200.90it/s]\n",
      "Validation Epoch 37/50: 100%|██████████| 188/188 [00:00<00:00, 315.62it/s]\n"
     ]
    },
    {
     "name": "stdout",
     "output_type": "stream",
     "text": [
      "Epoch 37/50, Train Loss: 1.4822, Val Loss: 1.4960\n"
     ]
    },
    {
     "name": "stderr",
     "output_type": "stream",
     "text": [
      "Training Epoch 38/50: 100%|██████████| 750/750 [00:03<00:00, 194.00it/s]\n",
      "Validation Epoch 38/50: 100%|██████████| 188/188 [00:00<00:00, 322.49it/s]\n"
     ]
    },
    {
     "name": "stdout",
     "output_type": "stream",
     "text": [
      "Epoch 38/50, Train Loss: 1.4812, Val Loss: 1.4938\n"
     ]
    },
    {
     "name": "stderr",
     "output_type": "stream",
     "text": [
      "Training Epoch 39/50: 100%|██████████| 750/750 [00:03<00:00, 203.88it/s]\n",
      "Validation Epoch 39/50: 100%|██████████| 188/188 [00:00<00:00, 315.65it/s]\n"
     ]
    },
    {
     "name": "stdout",
     "output_type": "stream",
     "text": [
      "Epoch 39/50, Train Loss: 1.4804, Val Loss: 1.4932\n"
     ]
    },
    {
     "name": "stderr",
     "output_type": "stream",
     "text": [
      "Training Epoch 40/50: 100%|██████████| 750/750 [00:03<00:00, 199.69it/s]\n",
      "Validation Epoch 40/50: 100%|██████████| 188/188 [00:00<00:00, 314.97it/s]\n"
     ]
    },
    {
     "name": "stdout",
     "output_type": "stream",
     "text": [
      "Epoch 40/50, Train Loss: 1.4804, Val Loss: 1.4949\n"
     ]
    },
    {
     "name": "stderr",
     "output_type": "stream",
     "text": [
      "Training Epoch 41/50: 100%|██████████| 750/750 [00:03<00:00, 204.18it/s]\n",
      "Validation Epoch 41/50: 100%|██████████| 188/188 [00:00<00:00, 318.67it/s]\n"
     ]
    },
    {
     "name": "stdout",
     "output_type": "stream",
     "text": [
      "Epoch 41/50, Train Loss: 1.4795, Val Loss: 1.4936\n"
     ]
    },
    {
     "name": "stderr",
     "output_type": "stream",
     "text": [
      "Training Epoch 42/50: 100%|██████████| 750/750 [00:03<00:00, 199.65it/s]\n",
      "Validation Epoch 42/50: 100%|██████████| 188/188 [00:00<00:00, 259.08it/s]\n"
     ]
    },
    {
     "name": "stdout",
     "output_type": "stream",
     "text": [
      "Epoch 42/50, Train Loss: 1.4788, Val Loss: 1.4943\n"
     ]
    },
    {
     "name": "stderr",
     "output_type": "stream",
     "text": [
      "Training Epoch 43/50: 100%|██████████| 750/750 [00:03<00:00, 191.45it/s]\n",
      "Validation Epoch 43/50: 100%|██████████| 188/188 [00:00<00:00, 316.93it/s]\n"
     ]
    },
    {
     "name": "stdout",
     "output_type": "stream",
     "text": [
      "Epoch 43/50, Train Loss: 1.4786, Val Loss: 1.4939\n"
     ]
    },
    {
     "name": "stderr",
     "output_type": "stream",
     "text": [
      "Training Epoch 44/50: 100%|██████████| 750/750 [00:03<00:00, 202.01it/s]\n",
      "Validation Epoch 44/50: 100%|██████████| 188/188 [00:00<00:00, 314.95it/s]\n"
     ]
    },
    {
     "name": "stdout",
     "output_type": "stream",
     "text": [
      "Epoch 44/50, Train Loss: 1.4775, Val Loss: 1.4938\n"
     ]
    },
    {
     "name": "stderr",
     "output_type": "stream",
     "text": [
      "Training Epoch 45/50: 100%|██████████| 750/750 [00:03<00:00, 199.08it/s]\n",
      "Validation Epoch 45/50: 100%|██████████| 188/188 [00:00<00:00, 322.62it/s]\n"
     ]
    },
    {
     "name": "stdout",
     "output_type": "stream",
     "text": [
      "Epoch 45/50, Train Loss: 1.4778, Val Loss: 1.4945\n"
     ]
    },
    {
     "name": "stderr",
     "output_type": "stream",
     "text": [
      "Training Epoch 46/50: 100%|██████████| 750/750 [00:03<00:00, 204.51it/s]\n",
      "Validation Epoch 46/50: 100%|██████████| 188/188 [00:00<00:00, 320.13it/s]\n"
     ]
    },
    {
     "name": "stdout",
     "output_type": "stream",
     "text": [
      "Epoch 46/50, Train Loss: 1.4770, Val Loss: 1.4942\n"
     ]
    },
    {
     "name": "stderr",
     "output_type": "stream",
     "text": [
      "Training Epoch 47/50: 100%|██████████| 750/750 [00:03<00:00, 200.44it/s]\n",
      "Validation Epoch 47/50: 100%|██████████| 188/188 [00:00<00:00, 310.65it/s]\n"
     ]
    },
    {
     "name": "stdout",
     "output_type": "stream",
     "text": [
      "Epoch 47/50, Train Loss: 1.4765, Val Loss: 1.4922\n"
     ]
    },
    {
     "name": "stderr",
     "output_type": "stream",
     "text": [
      "Training Epoch 48/50: 100%|██████████| 750/750 [00:03<00:00, 196.61it/s]\n",
      "Validation Epoch 48/50: 100%|██████████| 188/188 [00:00<00:00, 320.12it/s]\n"
     ]
    },
    {
     "name": "stdout",
     "output_type": "stream",
     "text": [
      "Epoch 48/50, Train Loss: 1.4763, Val Loss: 1.4920\n"
     ]
    },
    {
     "name": "stderr",
     "output_type": "stream",
     "text": [
      "Training Epoch 49/50: 100%|██████████| 750/750 [00:03<00:00, 197.29it/s]\n",
      "Validation Epoch 49/50: 100%|██████████| 188/188 [00:00<00:00, 318.26it/s]\n"
     ]
    },
    {
     "name": "stdout",
     "output_type": "stream",
     "text": [
      "Epoch 49/50, Train Loss: 1.4759, Val Loss: 1.4922\n"
     ]
    },
    {
     "name": "stderr",
     "output_type": "stream",
     "text": [
      "Training Epoch 50/50: 100%|██████████| 750/750 [00:03<00:00, 195.77it/s]\n",
      "Validation Epoch 50/50: 100%|██████████| 188/188 [00:00<00:00, 319.39it/s]\n"
     ]
    },
    {
     "name": "stdout",
     "output_type": "stream",
     "text": [
      "Epoch 50/50, Train Loss: 1.4754, Val Loss: 1.4912\n"
     ]
    },
    {
     "data": {
      "image/png": "[encoded data removed]",
      "text/plain": [
       "<Figure size 1000x600 with 1 Axes>"
      ]
     },
     "metadata": {},
     "output_type": "display_data"
    },
    {
     "name": "stdout",
     "output_type": "stream",
     "text": [
      "Test Loss: 1.4903\n",
      "Test Accuracy: 0.9721\n",
      "Test F1 Score: 0.9721\n",
      "Test Loss: 1.4903\n",
      "Test Accuracy: 0.9721\n",
      "Test F1 Score: 0.9721\n"
     ]
    }
   ],
   "source": [
    "# Unpack model configuration\n",
    "input_dim = model_2_config[\"input_dim\"]\n",
    "hidden_dim = model_2_config[\"hidden_dim\"]\n",
    "out_dim = model_2_config[\"out_dim\"]\n",
    "num_layers = model_2_config[\"num_layers\"]\n",
    "dropout = model_2_config[\"dropout\"]\n",
    "dropout_p = model_2_config[\"dropout_p\"]\n",
    "\n",
    "# Initialize the model\n",
    "model = MyModel(\n",
    "    input_dim=input_dim,\n",
    "    hidden_dims=[hidden_dim] * num_layers,  # Create hidden layers dynamically\n",
    "    output_dim=out_dim,\n",
    "    dropout_probs=[dropout_p if d else 0 for d in dropout]\n",
    ")\n",
    "\n",
    "# Define loss function and optimizer\n",
    "criterion = nn.CrossEntropyLoss()\n",
    "optimizer = optim.Adam(model.parameters(), lr=learning_rate, weight_decay=weight_decay)\n",
    "\n",
    "# Train the model\n",
    "trained_model, train_losses, val_losses = trainer(\n",
    "    model=model,\n",
    "    train_loader=train_dl,\n",
    "    val_loader=val_dl,\n",
    "    criterion=criterion,\n",
    "    optimizer=optimizer,\n",
    "    epochs=50,  # Maximum number of epochs\n",
    "    early_stopping=False,  # No early stopping for this experiment\n",
    "    patience=10  # Not used since early stopping is disabled\n",
    ")\n",
    "\n",
    "# Plot training and validation losses\n",
    "plot_losses(train_losses, val_losses)\n",
    "\n",
    "# Evaluate the model on the test dataset\n",
    "test_loss, test_accuracy, test_f1 = evaluate_model(trained_model, test_dl, criterion)\n",
    "\n",
    "# Print test evaluation metrics\n",
    "print(f\"Test Loss: {test_loss:.4f}\")\n",
    "print(f\"Test Accuracy: {test_accuracy:.4f}\")\n",
    "print(f\"Test F1 Score: {test_f1:.4f}\")\n",
    "\n",
    "m2_acc = test_accuracy\n",
    "m2_f1 = test_f1"
   ]
  },
  {
   "cell_type": "markdown",
   "metadata": {
    "id": "84WAQN1ObnE7"
   },
   "source": [
    "### Experiment 3: Deep regularized network (with weight-decay and dropout)\n",
    "\n",
    "Use the given model configs to run the experiments."
   ]
  },
  {
   "cell_type": "code",
   "execution_count": 27,
   "metadata": {
    "id": "ue5pphPbbnE9"
   },
   "outputs": [],
   "source": [
    "# Deep regularized network (3 hidden layers) with weight-decay and dropout after every layer\n",
    "model_3_config = {\n",
    "    \"input_dim\": 28 * 28,\n",
    "    \"hidden_dim\": 400,\n",
    "    \"out_dim\": 10,\n",
    "    \"num_layers\": 3,\n",
    "    \"dropout\": [True, True, True],\n",
    "    \"dropout_p\": 0.5\n",
    "}\n",
    "\n",
    "learning_rate = 5e-5\n",
    "weight_decay = 1e-4  # Use this only if weight-decay is needed"
   ]
  },
  {
   "cell_type": "code",
   "execution_count": 28,
   "metadata": {
    "id": "bpQ1bQZubnE9"
   },
   "outputs": [
    {
     "name": "stderr",
     "output_type": "stream",
     "text": [
      "Training Epoch 1/50: 100%|██████████| 750/750 [00:04<00:00, 180.46it/s]\n",
      "Validation Epoch 1/50: 100%|██████████| 188/188 [00:00<00:00, 317.71it/s]\n"
     ]
    },
    {
     "name": "stdout",
     "output_type": "stream",
     "text": [
      "Epoch 1/50, Train Loss: 2.0180, Val Loss: 1.7668\n"
     ]
    },
    {
     "name": "stderr",
     "output_type": "stream",
     "text": [
      "Training Epoch 2/50: 100%|██████████| 750/750 [00:04<00:00, 177.45it/s]\n",
      "Validation Epoch 2/50: 100%|██████████| 188/188 [00:00<00:00, 313.65it/s]\n"
     ]
    },
    {
     "name": "stdout",
     "output_type": "stream",
     "text": [
      "Epoch 2/50, Train Loss: 1.7301, Val Loss: 1.6209\n"
     ]
    },
    {
     "name": "stderr",
     "output_type": "stream",
     "text": [
      "Training Epoch 3/50: 100%|██████████| 750/750 [00:04<00:00, 182.98it/s]\n",
      "Validation Epoch 3/50: 100%|██████████| 188/188 [00:00<00:00, 317.78it/s]\n"
     ]
    },
    {
     "name": "stdout",
     "output_type": "stream",
     "text": [
      "Epoch 3/50, Train Loss: 1.6383, Val Loss: 1.5833\n"
     ]
    },
    {
     "name": "stderr",
     "output_type": "stream",
     "text": [
      "Training Epoch 4/50: 100%|██████████| 750/750 [00:04<00:00, 182.40it/s]\n",
      "Validation Epoch 4/50: 100%|██████████| 188/188 [00:00<00:00, 320.46it/s]\n"
     ]
    },
    {
     "name": "stdout",
     "output_type": "stream",
     "text": [
      "Epoch 4/50, Train Loss: 1.6042, Val Loss: 1.5693\n"
     ]
    },
    {
     "name": "stderr",
     "output_type": "stream",
     "text": [
      "Training Epoch 5/50: 100%|██████████| 750/750 [00:04<00:00, 179.97it/s]\n",
      "Validation Epoch 5/50: 100%|██████████| 188/188 [00:00<00:00, 314.03it/s]\n"
     ]
    },
    {
     "name": "stdout",
     "output_type": "stream",
     "text": [
      "Epoch 5/50, Train Loss: 1.5880, Val Loss: 1.5617\n"
     ]
    },
    {
     "name": "stderr",
     "output_type": "stream",
     "text": [
      "Training Epoch 6/50: 100%|██████████| 750/750 [00:04<00:00, 182.22it/s]\n",
      "Validation Epoch 6/50: 100%|██████████| 188/188 [00:00<00:00, 316.83it/s]\n"
     ]
    },
    {
     "name": "stdout",
     "output_type": "stream",
     "text": [
      "Epoch 6/50, Train Loss: 1.5767, Val Loss: 1.5541\n"
     ]
    },
    {
     "name": "stderr",
     "output_type": "stream",
     "text": [
      "Training Epoch 7/50: 100%|██████████| 750/750 [00:04<00:00, 180.46it/s]\n",
      "Validation Epoch 7/50: 100%|██████████| 188/188 [00:00<00:00, 321.24it/s]\n"
     ]
    },
    {
     "name": "stdout",
     "output_type": "stream",
     "text": [
      "Epoch 7/50, Train Loss: 1.5674, Val Loss: 1.5473\n"
     ]
    },
    {
     "name": "stderr",
     "output_type": "stream",
     "text": [
      "Training Epoch 8/50: 100%|██████████| 750/750 [00:04<00:00, 185.26it/s]\n",
      "Validation Epoch 8/50: 100%|██████████| 188/188 [00:00<00:00, 321.04it/s]\n"
     ]
    },
    {
     "name": "stdout",
     "output_type": "stream",
     "text": [
      "Epoch 8/50, Train Loss: 1.5593, Val Loss: 1.5425\n"
     ]
    },
    {
     "name": "stderr",
     "output_type": "stream",
     "text": [
      "Training Epoch 9/50: 100%|██████████| 750/750 [00:04<00:00, 184.81it/s]\n",
      "Validation Epoch 9/50: 100%|██████████| 188/188 [00:00<00:00, 317.11it/s]\n"
     ]
    },
    {
     "name": "stdout",
     "output_type": "stream",
     "text": [
      "Epoch 9/50, Train Loss: 1.5531, Val Loss: 1.5384\n"
     ]
    },
    {
     "name": "stderr",
     "output_type": "stream",
     "text": [
      "Training Epoch 10/50: 100%|██████████| 750/750 [00:04<00:00, 181.90it/s]\n",
      "Validation Epoch 10/50: 100%|██████████| 188/188 [00:00<00:00, 322.24it/s]\n"
     ]
    },
    {
     "name": "stdout",
     "output_type": "stream",
     "text": [
      "Epoch 10/50, Train Loss: 1.5491, Val Loss: 1.5363\n"
     ]
    },
    {
     "name": "stderr",
     "output_type": "stream",
     "text": [
      "Training Epoch 11/50: 100%|██████████| 750/750 [00:04<00:00, 185.37it/s]\n",
      "Validation Epoch 11/50: 100%|██████████| 188/188 [00:00<00:00, 316.76it/s]\n"
     ]
    },
    {
     "name": "stdout",
     "output_type": "stream",
     "text": [
      "Epoch 11/50, Train Loss: 1.5441, Val Loss: 1.5314\n"
     ]
    },
    {
     "name": "stderr",
     "output_type": "stream",
     "text": [
      "Training Epoch 12/50: 100%|██████████| 750/750 [00:04<00:00, 180.25it/s]\n",
      "Validation Epoch 12/50: 100%|██████████| 188/188 [00:00<00:00, 323.09it/s]\n"
     ]
    },
    {
     "name": "stdout",
     "output_type": "stream",
     "text": [
      "Epoch 12/50, Train Loss: 1.5415, Val Loss: 1.5291\n"
     ]
    },
    {
     "name": "stderr",
     "output_type": "stream",
     "text": [
      "Training Epoch 13/50: 100%|██████████| 750/750 [00:04<00:00, 185.22it/s]\n",
      "Validation Epoch 13/50: 100%|██████████| 188/188 [00:00<00:00, 318.41it/s]\n"
     ]
    },
    {
     "name": "stdout",
     "output_type": "stream",
     "text": [
      "Epoch 13/50, Train Loss: 1.5363, Val Loss: 1.5292\n"
     ]
    },
    {
     "name": "stderr",
     "output_type": "stream",
     "text": [
      "Training Epoch 14/50: 100%|██████████| 750/750 [00:04<00:00, 164.57it/s]\n",
      "Validation Epoch 14/50: 100%|██████████| 188/188 [00:00<00:00, 299.20it/s]\n"
     ]
    },
    {
     "name": "stdout",
     "output_type": "stream",
     "text": [
      "Epoch 14/50, Train Loss: 1.5341, Val Loss: 1.5249\n"
     ]
    },
    {
     "name": "stderr",
     "output_type": "stream",
     "text": [
      "Training Epoch 15/50: 100%|██████████| 750/750 [00:04<00:00, 170.38it/s]\n",
      "Validation Epoch 15/50: 100%|██████████| 188/188 [00:00<00:00, 305.80it/s]\n"
     ]
    },
    {
     "name": "stdout",
     "output_type": "stream",
     "text": [
      "Epoch 15/50, Train Loss: 1.5305, Val Loss: 1.5216\n"
     ]
    },
    {
     "name": "stderr",
     "output_type": "stream",
     "text": [
      "Training Epoch 16/50: 100%|██████████| 750/750 [00:04<00:00, 184.36it/s]\n",
      "Validation Epoch 16/50: 100%|██████████| 188/188 [00:00<00:00, 309.03it/s]\n"
     ]
    },
    {
     "name": "stdout",
     "output_type": "stream",
     "text": [
      "Epoch 16/50, Train Loss: 1.5283, Val Loss: 1.5197\n"
     ]
    },
    {
     "name": "stderr",
     "output_type": "stream",
     "text": [
      "Training Epoch 17/50: 100%|██████████| 750/750 [00:04<00:00, 183.31it/s]\n",
      "Validation Epoch 17/50: 100%|██████████| 188/188 [00:00<00:00, 317.71it/s]\n"
     ]
    },
    {
     "name": "stdout",
     "output_type": "stream",
     "text": [
      "Epoch 17/50, Train Loss: 1.5261, Val Loss: 1.5177\n"
     ]
    },
    {
     "name": "stderr",
     "output_type": "stream",
     "text": [
      "Training Epoch 18/50: 100%|██████████| 750/750 [00:04<00:00, 182.35it/s]\n",
      "Validation Epoch 18/50: 100%|██████████| 188/188 [00:00<00:00, 313.33it/s]\n"
     ]
    },
    {
     "name": "stdout",
     "output_type": "stream",
     "text": [
      "Epoch 18/50, Train Loss: 1.5231, Val Loss: 1.5152\n"
     ]
    },
    {
     "name": "stderr",
     "output_type": "stream",
     "text": [
      "Training Epoch 19/50: 100%|██████████| 750/750 [00:04<00:00, 186.42it/s]\n",
      "Validation Epoch 19/50: 100%|██████████| 188/188 [00:00<00:00, 318.85it/s]\n"
     ]
    },
    {
     "name": "stdout",
     "output_type": "stream",
     "text": [
      "Epoch 19/50, Train Loss: 1.5211, Val Loss: 1.5158\n"
     ]
    },
    {
     "name": "stderr",
     "output_type": "stream",
     "text": [
      "Training Epoch 20/50: 100%|██████████| 750/750 [00:04<00:00, 183.09it/s]\n",
      "Validation Epoch 20/50: 100%|██████████| 188/188 [00:00<00:00, 317.23it/s]\n"
     ]
    },
    {
     "name": "stdout",
     "output_type": "stream",
     "text": [
      "Epoch 20/50, Train Loss: 1.5191, Val Loss: 1.5136\n"
     ]
    },
    {
     "name": "stderr",
     "output_type": "stream",
     "text": [
      "Training Epoch 21/50: 100%|██████████| 750/750 [00:04<00:00, 185.02it/s]\n",
      "Validation Epoch 21/50: 100%|██████████| 188/188 [00:00<00:00, 315.32it/s]\n"
     ]
    },
    {
     "name": "stdout",
     "output_type": "stream",
     "text": [
      "Epoch 21/50, Train Loss: 1.5174, Val Loss: 1.5109\n"
     ]
    },
    {
     "name": "stderr",
     "output_type": "stream",
     "text": [
      "Training Epoch 22/50: 100%|██████████| 750/750 [00:04<00:00, 183.71it/s]\n",
      "Validation Epoch 22/50: 100%|██████████| 188/188 [00:00<00:00, 318.41it/s]\n"
     ]
    },
    {
     "name": "stdout",
     "output_type": "stream",
     "text": [
      "Epoch 22/50, Train Loss: 1.5169, Val Loss: 1.5115\n"
     ]
    },
    {
     "name": "stderr",
     "output_type": "stream",
     "text": [
      "Training Epoch 23/50: 100%|██████████| 750/750 [00:04<00:00, 182.23it/s]\n",
      "Validation Epoch 23/50: 100%|██████████| 188/188 [00:00<00:00, 316.82it/s]\n"
     ]
    },
    {
     "name": "stdout",
     "output_type": "stream",
     "text": [
      "Epoch 23/50, Train Loss: 1.5151, Val Loss: 1.5095\n"
     ]
    },
    {
     "name": "stderr",
     "output_type": "stream",
     "text": [
      "Training Epoch 24/50: 100%|██████████| 750/750 [00:04<00:00, 185.69it/s]\n",
      "Validation Epoch 24/50: 100%|██████████| 188/188 [00:00<00:00, 314.53it/s]\n"
     ]
    },
    {
     "name": "stdout",
     "output_type": "stream",
     "text": [
      "Epoch 24/50, Train Loss: 1.5131, Val Loss: 1.5086\n"
     ]
    },
    {
     "name": "stderr",
     "output_type": "stream",
     "text": [
      "Training Epoch 25/50: 100%|██████████| 750/750 [00:04<00:00, 182.68it/s]\n",
      "Validation Epoch 25/50: 100%|██████████| 188/188 [00:00<00:00, 315.37it/s]\n"
     ]
    },
    {
     "name": "stdout",
     "output_type": "stream",
     "text": [
      "Epoch 25/50, Train Loss: 1.5124, Val Loss: 1.5072\n"
     ]
    },
    {
     "name": "stderr",
     "output_type": "stream",
     "text": [
      "Training Epoch 26/50: 100%|██████████| 750/750 [00:04<00:00, 184.44it/s]\n",
      "Validation Epoch 26/50: 100%|██████████| 188/188 [00:00<00:00, 319.75it/s]\n"
     ]
    },
    {
     "name": "stdout",
     "output_type": "stream",
     "text": [
      "Epoch 26/50, Train Loss: 1.5116, Val Loss: 1.5064\n"
     ]
    },
    {
     "name": "stderr",
     "output_type": "stream",
     "text": [
      "Training Epoch 27/50: 100%|██████████| 750/750 [00:04<00:00, 182.37it/s]\n",
      "Validation Epoch 27/50: 100%|██████████| 188/188 [00:00<00:00, 312.86it/s]\n"
     ]
    },
    {
     "name": "stdout",
     "output_type": "stream",
     "text": [
      "Epoch 27/50, Train Loss: 1.5089, Val Loss: 1.5051\n"
     ]
    },
    {
     "name": "stderr",
     "output_type": "stream",
     "text": [
      "Training Epoch 28/50: 100%|██████████| 750/750 [00:04<00:00, 185.65it/s]\n",
      "Validation Epoch 28/50: 100%|██████████| 188/188 [00:00<00:00, 320.21it/s]\n"
     ]
    },
    {
     "name": "stdout",
     "output_type": "stream",
     "text": [
      "Epoch 28/50, Train Loss: 1.5088, Val Loss: 1.5040\n"
     ]
    },
    {
     "name": "stderr",
     "output_type": "stream",
     "text": [
      "Training Epoch 29/50: 100%|██████████| 750/750 [00:04<00:00, 185.53it/s]\n",
      "Validation Epoch 29/50: 100%|██████████| 188/188 [00:00<00:00, 323.01it/s]\n"
     ]
    },
    {
     "name": "stdout",
     "output_type": "stream",
     "text": [
      "Epoch 29/50, Train Loss: 1.5074, Val Loss: 1.5034\n"
     ]
    },
    {
     "name": "stderr",
     "output_type": "stream",
     "text": [
      "Training Epoch 30/50: 100%|██████████| 750/750 [00:04<00:00, 182.98it/s]\n",
      "Validation Epoch 30/50: 100%|██████████| 188/188 [00:00<00:00, 316.61it/s]\n"
     ]
    },
    {
     "name": "stdout",
     "output_type": "stream",
     "text": [
      "Epoch 30/50, Train Loss: 1.5072, Val Loss: 1.5017\n"
     ]
    },
    {
     "name": "stderr",
     "output_type": "stream",
     "text": [
      "Training Epoch 31/50: 100%|██████████| 750/750 [00:04<00:00, 184.91it/s]\n",
      "Validation Epoch 31/50: 100%|██████████| 188/188 [00:00<00:00, 315.10it/s]\n"
     ]
    },
    {
     "name": "stdout",
     "output_type": "stream",
     "text": [
      "Epoch 31/50, Train Loss: 1.5060, Val Loss: 1.5031\n"
     ]
    },
    {
     "name": "stderr",
     "output_type": "stream",
     "text": [
      "Training Epoch 32/50: 100%|██████████| 750/750 [00:04<00:00, 183.87it/s]\n",
      "Validation Epoch 32/50: 100%|██████████| 188/188 [00:00<00:00, 315.60it/s]\n"
     ]
    },
    {
     "name": "stdout",
     "output_type": "stream",
     "text": [
      "Epoch 32/50, Train Loss: 1.5062, Val Loss: 1.5015\n"
     ]
    },
    {
     "name": "stderr",
     "output_type": "stream",
     "text": [
      "Training Epoch 33/50: 100%|██████████| 750/750 [00:04<00:00, 187.08it/s]\n",
      "Validation Epoch 33/50: 100%|██████████| 188/188 [00:00<00:00, 317.14it/s]\n"
     ]
    },
    {
     "name": "stdout",
     "output_type": "stream",
     "text": [
      "Epoch 33/50, Train Loss: 1.5037, Val Loss: 1.5015\n"
     ]
    },
    {
     "name": "stderr",
     "output_type": "stream",
     "text": [
      "Training Epoch 34/50: 100%|██████████| 750/750 [00:04<00:00, 186.67it/s]\n",
      "Validation Epoch 34/50: 100%|██████████| 188/188 [00:00<00:00, 318.50it/s]\n"
     ]
    },
    {
     "name": "stdout",
     "output_type": "stream",
     "text": [
      "Epoch 34/50, Train Loss: 1.5029, Val Loss: 1.4997\n"
     ]
    },
    {
     "name": "stderr",
     "output_type": "stream",
     "text": [
      "Training Epoch 35/50: 100%|██████████| 750/750 [00:04<00:00, 183.29it/s]\n",
      "Validation Epoch 35/50: 100%|██████████| 188/188 [00:00<00:00, 319.73it/s]\n"
     ]
    },
    {
     "name": "stdout",
     "output_type": "stream",
     "text": [
      "Epoch 35/50, Train Loss: 1.5025, Val Loss: 1.5001\n"
     ]
    },
    {
     "name": "stderr",
     "output_type": "stream",
     "text": [
      "Training Epoch 36/50: 100%|██████████| 750/750 [00:04<00:00, 185.44it/s]\n",
      "Validation Epoch 36/50: 100%|██████████| 188/188 [00:00<00:00, 315.63it/s]\n"
     ]
    },
    {
     "name": "stdout",
     "output_type": "stream",
     "text": [
      "Epoch 36/50, Train Loss: 1.5020, Val Loss: 1.4990\n"
     ]
    },
    {
     "name": "stderr",
     "output_type": "stream",
     "text": [
      "Training Epoch 37/50: 100%|██████████| 750/750 [00:04<00:00, 183.28it/s]\n",
      "Validation Epoch 37/50: 100%|██████████| 188/188 [00:00<00:00, 319.16it/s]\n"
     ]
    },
    {
     "name": "stdout",
     "output_type": "stream",
     "text": [
      "Epoch 37/50, Train Loss: 1.5022, Val Loss: 1.4982\n"
     ]
    },
    {
     "name": "stderr",
     "output_type": "stream",
     "text": [
      "Training Epoch 38/50: 100%|██████████| 750/750 [00:04<00:00, 185.68it/s]\n",
      "Validation Epoch 38/50: 100%|██████████| 188/188 [00:00<00:00, 321.96it/s]\n"
     ]
    },
    {
     "name": "stdout",
     "output_type": "stream",
     "text": [
      "Epoch 38/50, Train Loss: 1.5005, Val Loss: 1.4977\n"
     ]
    },
    {
     "name": "stderr",
     "output_type": "stream",
     "text": [
      "Training Epoch 39/50: 100%|██████████| 750/750 [00:04<00:00, 185.78it/s]\n",
      "Validation Epoch 39/50: 100%|██████████| 188/188 [00:00<00:00, 316.02it/s]\n"
     ]
    },
    {
     "name": "stdout",
     "output_type": "stream",
     "text": [
      "Epoch 39/50, Train Loss: 1.5006, Val Loss: 1.4969\n"
     ]
    },
    {
     "name": "stderr",
     "output_type": "stream",
     "text": [
      "Training Epoch 40/50: 100%|██████████| 750/750 [00:04<00:00, 180.54it/s]\n",
      "Validation Epoch 40/50: 100%|██████████| 188/188 [00:00<00:00, 315.42it/s]\n"
     ]
    },
    {
     "name": "stdout",
     "output_type": "stream",
     "text": [
      "Epoch 40/50, Train Loss: 1.4992, Val Loss: 1.4976\n"
     ]
    },
    {
     "name": "stderr",
     "output_type": "stream",
     "text": [
      "Training Epoch 41/50: 100%|██████████| 750/750 [00:04<00:00, 185.59it/s]\n",
      "Validation Epoch 41/50: 100%|██████████| 188/188 [00:00<00:00, 316.85it/s]\n"
     ]
    },
    {
     "name": "stdout",
     "output_type": "stream",
     "text": [
      "Epoch 41/50, Train Loss: 1.4993, Val Loss: 1.4973\n"
     ]
    },
    {
     "name": "stderr",
     "output_type": "stream",
     "text": [
      "Training Epoch 42/50: 100%|██████████| 750/750 [00:04<00:00, 182.79it/s]\n",
      "Validation Epoch 42/50: 100%|██████████| 188/188 [00:00<00:00, 313.63it/s]\n"
     ]
    },
    {
     "name": "stdout",
     "output_type": "stream",
     "text": [
      "Epoch 42/50, Train Loss: 1.4985, Val Loss: 1.4977\n"
     ]
    },
    {
     "name": "stderr",
     "output_type": "stream",
     "text": [
      "Training Epoch 43/50: 100%|██████████| 750/750 [00:04<00:00, 185.61it/s]\n",
      "Validation Epoch 43/50: 100%|██████████| 188/188 [00:00<00:00, 312.73it/s]\n"
     ]
    },
    {
     "name": "stdout",
     "output_type": "stream",
     "text": [
      "Epoch 43/50, Train Loss: 1.4966, Val Loss: 1.4960\n"
     ]
    },
    {
     "name": "stderr",
     "output_type": "stream",
     "text": [
      "Training Epoch 44/50: 100%|██████████| 750/750 [00:04<00:00, 186.07it/s]\n",
      "Validation Epoch 44/50: 100%|██████████| 188/188 [00:00<00:00, 319.80it/s]\n"
     ]
    },
    {
     "name": "stdout",
     "output_type": "stream",
     "text": [
      "Epoch 44/50, Train Loss: 1.4963, Val Loss: 1.4949\n"
     ]
    },
    {
     "name": "stderr",
     "output_type": "stream",
     "text": [
      "Training Epoch 45/50: 100%|██████████| 750/750 [00:04<00:00, 181.19it/s]\n",
      "Validation Epoch 45/50: 100%|██████████| 188/188 [00:00<00:00, 320.62it/s]\n"
     ]
    },
    {
     "name": "stdout",
     "output_type": "stream",
     "text": [
      "Epoch 45/50, Train Loss: 1.4970, Val Loss: 1.4954\n"
     ]
    },
    {
     "name": "stderr",
     "output_type": "stream",
     "text": [
      "Training Epoch 46/50: 100%|██████████| 750/750 [00:04<00:00, 185.98it/s]\n",
      "Validation Epoch 46/50: 100%|██████████| 188/188 [00:00<00:00, 315.40it/s]\n"
     ]
    },
    {
     "name": "stdout",
     "output_type": "stream",
     "text": [
      "Epoch 46/50, Train Loss: 1.4967, Val Loss: 1.4942\n"
     ]
    },
    {
     "name": "stderr",
     "output_type": "stream",
     "text": [
      "Training Epoch 47/50: 100%|██████████| 750/750 [00:04<00:00, 183.43it/s]\n",
      "Validation Epoch 47/50: 100%|██████████| 188/188 [00:00<00:00, 318.80it/s]\n"
     ]
    },
    {
     "name": "stdout",
     "output_type": "stream",
     "text": [
      "Epoch 47/50, Train Loss: 1.4968, Val Loss: 1.4939\n"
     ]
    },
    {
     "name": "stderr",
     "output_type": "stream",
     "text": [
      "Training Epoch 48/50: 100%|██████████| 750/750 [00:04<00:00, 185.19it/s]\n",
      "Validation Epoch 48/50: 100%|██████████| 188/188 [00:00<00:00, 314.47it/s]\n"
     ]
    },
    {
     "name": "stdout",
     "output_type": "stream",
     "text": [
      "Epoch 48/50, Train Loss: 1.4960, Val Loss: 1.4945\n"
     ]
    },
    {
     "name": "stderr",
     "output_type": "stream",
     "text": [
      "Training Epoch 49/50: 100%|██████████| 750/750 [00:04<00:00, 185.41it/s]\n",
      "Validation Epoch 49/50: 100%|██████████| 188/188 [00:00<00:00, 319.79it/s]\n"
     ]
    },
    {
     "name": "stdout",
     "output_type": "stream",
     "text": [
      "Epoch 49/50, Train Loss: 1.4949, Val Loss: 1.4948\n"
     ]
    },
    {
     "name": "stderr",
     "output_type": "stream",
     "text": [
      "Training Epoch 50/50: 100%|██████████| 750/750 [00:04<00:00, 183.13it/s]\n",
      "Validation Epoch 50/50: 100%|██████████| 188/188 [00:00<00:00, 316.73it/s]\n"
     ]
    },
    {
     "name": "stdout",
     "output_type": "stream",
     "text": [
      "Epoch 50/50, Train Loss: 1.4941, Val Loss: 1.4941\n"
     ]
    },
    {
     "data": {
      "image/png": "[encoded data removed]",
      "text/plain": [
       "<Figure size 1000x600 with 1 Axes>"
      ]
     },
     "metadata": {},
     "output_type": "display_data"
    },
    {
     "name": "stdout",
     "output_type": "stream",
     "text": [
      "Test Loss: 1.4901\n",
      "Test Accuracy: 0.9723\n",
      "Test F1 Score: 0.9723\n",
      "Test Loss: 1.4901\n",
      "Test Accuracy: 0.9723\n",
      "Test F1 Score: 0.9723\n"
     ]
    }
   ],
   "source": [
    "# Unpack model configuration\n",
    "input_dim = model_3_config[\"input_dim\"]\n",
    "hidden_dim = model_3_config[\"hidden_dim\"]\n",
    "out_dim = model_3_config[\"out_dim\"]\n",
    "num_layers = model_3_config[\"num_layers\"]\n",
    "dropout = model_3_config[\"dropout\"]\n",
    "dropout_p = model_3_config[\"dropout_p\"]\n",
    "\n",
    "# Initialize the model\n",
    "model = MyModel(\n",
    "    input_dim=input_dim,\n",
    "    hidden_dims=[hidden_dim] * num_layers,  # Create hidden layers dynamically\n",
    "    output_dim=out_dim,\n",
    "    dropout_probs=[dropout_p if d else 0 for d in dropout]\n",
    ")\n",
    "\n",
    "# Define loss function and optimizer\n",
    "criterion = nn.CrossEntropyLoss()\n",
    "optimizer = optim.Adam(model.parameters(), lr=learning_rate, weight_decay=weight_decay)\n",
    "\n",
    "# Train the model\n",
    "trained_model, train_losses, val_losses = trainer(\n",
    "    model=model,\n",
    "    train_loader=train_dl,\n",
    "    val_loader=val_dl,\n",
    "    criterion=criterion,\n",
    "    optimizer=optimizer,\n",
    "    epochs=50,  # Maximum number of epochs\n",
    "    early_stopping=False,  # No early stopping for this experiment\n",
    "    patience=10  # Not used since early stopping is disabled\n",
    ")\n",
    "\n",
    "# Plot training and validation losses\n",
    "plot_losses(train_losses, val_losses)\n",
    "\n",
    "# Evaluate the model on the test dataset\n",
    "test_loss, test_accuracy, test_f1 = evaluate_model(trained_model, test_dl, criterion)\n",
    "\n",
    "# Print test evaluation metrics\n",
    "print(f\"Test Loss: {test_loss:.4f}\")\n",
    "print(f\"Test Accuracy: {test_accuracy:.4f}\")\n",
    "print(f\"Test F1 Score: {test_f1:.4f}\")\n",
    "\n",
    "m3_acc = test_accuracy\n",
    "m3_f1 = test_f1"
   ]
  },
  {
   "cell_type": "markdown",
   "metadata": {
    "id": "7WooDkWWbzi-"
   },
   "source": [
    "### Experiment 4: Deep regularized network (with weight-decay and early-stopping)\n",
    "\n",
    "Use the given model configs to run the experiments."
   ]
  },
  {
   "cell_type": "code",
   "execution_count": 29,
   "metadata": {
    "id": "GR_soZtibzjA"
   },
   "outputs": [],
   "source": [
    "# Deep regularized network (3 hidden layers) with weight-decay and early stopping\n",
    "model_4_config = {\n",
    "    \"input_dim\": 28 * 28,\n",
    "    \"hidden_dim\": 400,\n",
    "    \"out_dim\": 10,\n",
    "    \"num_layers\": 3,\n",
    "    \"dropout\": [False, False, False],\n",
    "    \"dropout_p\": 0.5\n",
    "}\n",
    "\n",
    "learning_rate = 5e-5\n",
    "weight_decay = 1e-4  # Use this only if weight-decay is needed"
   ]
  },
  {
   "cell_type": "code",
   "execution_count": 30,
   "metadata": {
    "id": "tuL1MKxVbzjA"
   },
   "outputs": [
    {
     "name": "stderr",
     "output_type": "stream",
     "text": [
      "Training Epoch 1/50: 100%|██████████| 750/750 [00:03<00:00, 195.94it/s]\n",
      "Validation Epoch 1/50: 100%|██████████| 188/188 [00:00<00:00, 316.46it/s]\n"
     ]
    },
    {
     "name": "stdout",
     "output_type": "stream",
     "text": [
      "Epoch 1/50, Train Loss: 1.7865, Val Loss: 1.6066\n"
     ]
    },
    {
     "name": "stderr",
     "output_type": "stream",
     "text": [
      "Training Epoch 2/50: 100%|██████████| 750/750 [00:03<00:00, 192.05it/s]\n",
      "Validation Epoch 2/50: 100%|██████████| 188/188 [00:00<00:00, 312.32it/s]\n"
     ]
    },
    {
     "name": "stdout",
     "output_type": "stream",
     "text": [
      "Epoch 2/50, Train Loss: 1.5843, Val Loss: 1.5729\n"
     ]
    },
    {
     "name": "stderr",
     "output_type": "stream",
     "text": [
      "Training Epoch 3/50: 100%|██████████| 750/750 [00:03<00:00, 195.53it/s]\n",
      "Validation Epoch 3/50: 100%|██████████| 188/188 [00:00<00:00, 311.47it/s]\n"
     ]
    },
    {
     "name": "stdout",
     "output_type": "stream",
     "text": [
      "Epoch 3/50, Train Loss: 1.5636, Val Loss: 1.5608\n"
     ]
    },
    {
     "name": "stderr",
     "output_type": "stream",
     "text": [
      "Training Epoch 4/50: 100%|██████████| 750/750 [00:03<00:00, 191.30it/s]\n",
      "Validation Epoch 4/50: 100%|██████████| 188/188 [00:00<00:00, 312.45it/s]\n"
     ]
    },
    {
     "name": "stdout",
     "output_type": "stream",
     "text": [
      "Epoch 4/50, Train Loss: 1.5525, Val Loss: 1.5542\n"
     ]
    },
    {
     "name": "stderr",
     "output_type": "stream",
     "text": [
      "Training Epoch 5/50: 100%|██████████| 750/750 [00:03<00:00, 195.02it/s]\n",
      "Validation Epoch 5/50: 100%|██████████| 188/188 [00:00<00:00, 312.14it/s]\n"
     ]
    },
    {
     "name": "stdout",
     "output_type": "stream",
     "text": [
      "Epoch 5/50, Train Loss: 1.5444, Val Loss: 1.5460\n"
     ]
    },
    {
     "name": "stderr",
     "output_type": "stream",
     "text": [
      "Training Epoch 6/50: 100%|██████████| 750/750 [00:03<00:00, 194.60it/s]\n",
      "Validation Epoch 6/50: 100%|██████████| 188/188 [00:00<00:00, 316.48it/s]\n"
     ]
    },
    {
     "name": "stdout",
     "output_type": "stream",
     "text": [
      "Epoch 6/50, Train Loss: 1.5380, Val Loss: 1.5440\n"
     ]
    },
    {
     "name": "stderr",
     "output_type": "stream",
     "text": [
      "Training Epoch 7/50: 100%|██████████| 750/750 [00:03<00:00, 196.93it/s]\n",
      "Validation Epoch 7/50: 100%|██████████| 188/188 [00:00<00:00, 308.81it/s]\n"
     ]
    },
    {
     "name": "stdout",
     "output_type": "stream",
     "text": [
      "Epoch 7/50, Train Loss: 1.5328, Val Loss: 1.5415\n"
     ]
    },
    {
     "name": "stderr",
     "output_type": "stream",
     "text": [
      "Training Epoch 8/50: 100%|██████████| 750/750 [00:03<00:00, 195.14it/s]\n",
      "Validation Epoch 8/50: 100%|██████████| 188/188 [00:00<00:00, 277.12it/s]\n"
     ]
    },
    {
     "name": "stdout",
     "output_type": "stream",
     "text": [
      "Epoch 8/50, Train Loss: 1.5286, Val Loss: 1.5322\n"
     ]
    },
    {
     "name": "stderr",
     "output_type": "stream",
     "text": [
      "Training Epoch 9/50: 100%|██████████| 750/750 [00:03<00:00, 196.42it/s]\n",
      "Validation Epoch 9/50: 100%|██████████| 188/188 [00:00<00:00, 311.90it/s]\n"
     ]
    },
    {
     "name": "stdout",
     "output_type": "stream",
     "text": [
      "Epoch 9/50, Train Loss: 1.5249, Val Loss: 1.5316\n"
     ]
    },
    {
     "name": "stderr",
     "output_type": "stream",
     "text": [
      "Training Epoch 10/50: 100%|██████████| 750/750 [00:03<00:00, 193.84it/s]\n",
      "Validation Epoch 10/50: 100%|██████████| 188/188 [00:00<00:00, 312.95it/s]\n"
     ]
    },
    {
     "name": "stdout",
     "output_type": "stream",
     "text": [
      "Epoch 10/50, Train Loss: 1.5209, Val Loss: 1.5311\n"
     ]
    },
    {
     "name": "stderr",
     "output_type": "stream",
     "text": [
      "Training Epoch 11/50: 100%|██████████| 750/750 [00:03<00:00, 196.55it/s]\n",
      "Validation Epoch 11/50: 100%|██████████| 188/188 [00:00<00:00, 310.82it/s]\n"
     ]
    },
    {
     "name": "stdout",
     "output_type": "stream",
     "text": [
      "Epoch 11/50, Train Loss: 1.5177, Val Loss: 1.5258\n"
     ]
    },
    {
     "name": "stderr",
     "output_type": "stream",
     "text": [
      "Training Epoch 12/50: 100%|██████████| 750/750 [00:03<00:00, 195.22it/s]\n",
      "Validation Epoch 12/50: 100%|██████████| 188/188 [00:00<00:00, 312.08it/s]\n"
     ]
    },
    {
     "name": "stdout",
     "output_type": "stream",
     "text": [
      "Epoch 12/50, Train Loss: 1.5146, Val Loss: 1.5224\n"
     ]
    },
    {
     "name": "stderr",
     "output_type": "stream",
     "text": [
      "Training Epoch 13/50: 100%|██████████| 750/750 [00:03<00:00, 191.68it/s]\n",
      "Validation Epoch 13/50: 100%|██████████| 188/188 [00:00<00:00, 313.61it/s]\n"
     ]
    },
    {
     "name": "stdout",
     "output_type": "stream",
     "text": [
      "Epoch 13/50, Train Loss: 1.5118, Val Loss: 1.5219\n"
     ]
    },
    {
     "name": "stderr",
     "output_type": "stream",
     "text": [
      "Training Epoch 14/50: 100%|██████████| 750/750 [00:03<00:00, 194.75it/s]\n",
      "Validation Epoch 14/50: 100%|██████████| 188/188 [00:00<00:00, 311.75it/s]\n"
     ]
    },
    {
     "name": "stdout",
     "output_type": "stream",
     "text": [
      "Epoch 14/50, Train Loss: 1.5088, Val Loss: 1.5183\n"
     ]
    },
    {
     "name": "stderr",
     "output_type": "stream",
     "text": [
      "Training Epoch 15/50: 100%|██████████| 750/750 [00:03<00:00, 192.61it/s]\n",
      "Validation Epoch 15/50: 100%|██████████| 188/188 [00:00<00:00, 309.12it/s]\n"
     ]
    },
    {
     "name": "stdout",
     "output_type": "stream",
     "text": [
      "Epoch 15/50, Train Loss: 1.5069, Val Loss: 1.5153\n"
     ]
    },
    {
     "name": "stderr",
     "output_type": "stream",
     "text": [
      "Training Epoch 16/50: 100%|██████████| 750/750 [00:03<00:00, 196.38it/s]\n",
      "Validation Epoch 16/50: 100%|██████████| 188/188 [00:00<00:00, 312.94it/s]\n"
     ]
    },
    {
     "name": "stdout",
     "output_type": "stream",
     "text": [
      "Epoch 16/50, Train Loss: 1.5046, Val Loss: 1.5173\n"
     ]
    },
    {
     "name": "stderr",
     "output_type": "stream",
     "text": [
      "Training Epoch 17/50: 100%|██████████| 750/750 [00:03<00:00, 191.80it/s]\n",
      "Validation Epoch 17/50: 100%|██████████| 188/188 [00:00<00:00, 305.69it/s]\n"
     ]
    },
    {
     "name": "stdout",
     "output_type": "stream",
     "text": [
      "Epoch 17/50, Train Loss: 1.5022, Val Loss: 1.5185\n"
     ]
    },
    {
     "name": "stderr",
     "output_type": "stream",
     "text": [
      "Training Epoch 18/50: 100%|██████████| 750/750 [00:03<00:00, 195.73it/s]\n",
      "Validation Epoch 18/50: 100%|██████████| 188/188 [00:00<00:00, 310.78it/s]\n"
     ]
    },
    {
     "name": "stdout",
     "output_type": "stream",
     "text": [
      "Epoch 18/50, Train Loss: 1.5008, Val Loss: 1.5116\n"
     ]
    },
    {
     "name": "stderr",
     "output_type": "stream",
     "text": [
      "Training Epoch 19/50: 100%|██████████| 750/750 [00:03<00:00, 195.18it/s]\n",
      "Validation Epoch 19/50: 100%|██████████| 188/188 [00:00<00:00, 311.62it/s]\n"
     ]
    },
    {
     "name": "stdout",
     "output_type": "stream",
     "text": [
      "Epoch 19/50, Train Loss: 1.4986, Val Loss: 1.5099\n"
     ]
    },
    {
     "name": "stderr",
     "output_type": "stream",
     "text": [
      "Training Epoch 20/50: 100%|██████████| 750/750 [00:03<00:00, 191.59it/s]\n",
      "Validation Epoch 20/50: 100%|██████████| 188/188 [00:00<00:00, 306.50it/s]\n"
     ]
    },
    {
     "name": "stdout",
     "output_type": "stream",
     "text": [
      "Epoch 20/50, Train Loss: 1.4972, Val Loss: 1.5098\n"
     ]
    },
    {
     "name": "stderr",
     "output_type": "stream",
     "text": [
      "Training Epoch 21/50: 100%|██████████| 750/750 [00:03<00:00, 197.25it/s]\n",
      "Validation Epoch 21/50: 100%|██████████| 188/188 [00:00<00:00, 311.08it/s]\n"
     ]
    },
    {
     "name": "stdout",
     "output_type": "stream",
     "text": [
      "Epoch 21/50, Train Loss: 1.4953, Val Loss: 1.5072\n"
     ]
    },
    {
     "name": "stderr",
     "output_type": "stream",
     "text": [
      "Training Epoch 22/50: 100%|██████████| 750/750 [00:03<00:00, 190.81it/s]\n",
      "Validation Epoch 22/50: 100%|██████████| 188/188 [00:00<00:00, 312.95it/s]\n"
     ]
    },
    {
     "name": "stdout",
     "output_type": "stream",
     "text": [
      "Epoch 22/50, Train Loss: 1.4939, Val Loss: 1.5047\n"
     ]
    },
    {
     "name": "stderr",
     "output_type": "stream",
     "text": [
      "Training Epoch 23/50: 100%|██████████| 750/750 [00:03<00:00, 197.40it/s]\n",
      "Validation Epoch 23/50: 100%|██████████| 188/188 [00:00<00:00, 311.26it/s]\n"
     ]
    },
    {
     "name": "stdout",
     "output_type": "stream",
     "text": [
      "Epoch 23/50, Train Loss: 1.4924, Val Loss: 1.5056\n"
     ]
    },
    {
     "name": "stderr",
     "output_type": "stream",
     "text": [
      "Training Epoch 24/50: 100%|██████████| 750/750 [00:03<00:00, 195.71it/s]\n",
      "Validation Epoch 24/50: 100%|██████████| 188/188 [00:00<00:00, 285.32it/s]\n"
     ]
    },
    {
     "name": "stdout",
     "output_type": "stream",
     "text": [
      "Epoch 24/50, Train Loss: 1.4911, Val Loss: 1.5019\n"
     ]
    },
    {
     "name": "stderr",
     "output_type": "stream",
     "text": [
      "Training Epoch 25/50: 100%|██████████| 750/750 [00:03<00:00, 193.62it/s]\n",
      "Validation Epoch 25/50: 100%|██████████| 188/188 [00:00<00:00, 309.30it/s]\n"
     ]
    },
    {
     "name": "stdout",
     "output_type": "stream",
     "text": [
      "Epoch 25/50, Train Loss: 1.4899, Val Loss: 1.5021\n"
     ]
    },
    {
     "name": "stderr",
     "output_type": "stream",
     "text": [
      "Training Epoch 26/50: 100%|██████████| 750/750 [00:03<00:00, 198.45it/s]\n",
      "Validation Epoch 26/50: 100%|██████████| 188/188 [00:00<00:00, 307.33it/s]\n"
     ]
    },
    {
     "name": "stdout",
     "output_type": "stream",
     "text": [
      "Epoch 26/50, Train Loss: 1.4885, Val Loss: 1.5012\n"
     ]
    },
    {
     "name": "stderr",
     "output_type": "stream",
     "text": [
      "Training Epoch 27/50: 100%|██████████| 750/750 [00:03<00:00, 194.64it/s]\n",
      "Validation Epoch 27/50: 100%|██████████| 188/188 [00:00<00:00, 312.85it/s]\n"
     ]
    },
    {
     "name": "stdout",
     "output_type": "stream",
     "text": [
      "Epoch 27/50, Train Loss: 1.4875, Val Loss: 1.5001\n"
     ]
    },
    {
     "name": "stderr",
     "output_type": "stream",
     "text": [
      "Training Epoch 28/50: 100%|██████████| 750/750 [00:03<00:00, 197.20it/s]\n",
      "Validation Epoch 28/50: 100%|██████████| 188/188 [00:00<00:00, 311.79it/s]\n"
     ]
    },
    {
     "name": "stdout",
     "output_type": "stream",
     "text": [
      "Epoch 28/50, Train Loss: 1.4864, Val Loss: 1.5061\n"
     ]
    },
    {
     "name": "stderr",
     "output_type": "stream",
     "text": [
      "Training Epoch 29/50: 100%|██████████| 750/750 [00:04<00:00, 185.45it/s]\n",
      "Validation Epoch 29/50: 100%|██████████| 188/188 [00:00<00:00, 314.10it/s]\n"
     ]
    },
    {
     "name": "stdout",
     "output_type": "stream",
     "text": [
      "Epoch 29/50, Train Loss: 1.4858, Val Loss: 1.5004\n"
     ]
    },
    {
     "name": "stderr",
     "output_type": "stream",
     "text": [
      "Training Epoch 30/50: 100%|██████████| 750/750 [00:03<00:00, 195.87it/s]\n",
      "Validation Epoch 30/50: 100%|██████████| 188/188 [00:00<00:00, 308.91it/s]\n"
     ]
    },
    {
     "name": "stdout",
     "output_type": "stream",
     "text": [
      "Epoch 30/50, Train Loss: 1.4848, Val Loss: 1.4971\n"
     ]
    },
    {
     "name": "stderr",
     "output_type": "stream",
     "text": [
      "Training Epoch 31/50: 100%|██████████| 750/750 [00:03<00:00, 192.07it/s]\n",
      "Validation Epoch 31/50: 100%|██████████| 188/188 [00:00<00:00, 302.54it/s]\n"
     ]
    },
    {
     "name": "stdout",
     "output_type": "stream",
     "text": [
      "Epoch 31/50, Train Loss: 1.4841, Val Loss: 1.4967\n"
     ]
    },
    {
     "name": "stderr",
     "output_type": "stream",
     "text": [
      "Training Epoch 32/50: 100%|██████████| 750/750 [00:03<00:00, 188.97it/s]\n",
      "Validation Epoch 32/50: 100%|██████████| 188/188 [00:00<00:00, 305.91it/s]\n"
     ]
    },
    {
     "name": "stdout",
     "output_type": "stream",
     "text": [
      "Epoch 32/50, Train Loss: 1.4831, Val Loss: 1.4974\n"
     ]
    },
    {
     "name": "stderr",
     "output_type": "stream",
     "text": [
      "Training Epoch 33/50: 100%|██████████| 750/750 [00:03<00:00, 192.36it/s]\n",
      "Validation Epoch 33/50: 100%|██████████| 188/188 [00:00<00:00, 306.55it/s]\n"
     ]
    },
    {
     "name": "stdout",
     "output_type": "stream",
     "text": [
      "Epoch 33/50, Train Loss: 1.4820, Val Loss: 1.4987\n"
     ]
    },
    {
     "name": "stderr",
     "output_type": "stream",
     "text": [
      "Training Epoch 34/50: 100%|██████████| 750/750 [00:03<00:00, 188.06it/s]\n",
      "Validation Epoch 34/50: 100%|██████████| 188/188 [00:00<00:00, 306.72it/s]\n"
     ]
    },
    {
     "name": "stdout",
     "output_type": "stream",
     "text": [
      "Epoch 34/50, Train Loss: 1.4816, Val Loss: 1.4953\n"
     ]
    },
    {
     "name": "stderr",
     "output_type": "stream",
     "text": [
      "Training Epoch 35/50: 100%|██████████| 750/750 [00:03<00:00, 194.07it/s]\n",
      "Validation Epoch 35/50: 100%|██████████| 188/188 [00:00<00:00, 304.60it/s]\n"
     ]
    },
    {
     "name": "stdout",
     "output_type": "stream",
     "text": [
      "Epoch 35/50, Train Loss: 1.4808, Val Loss: 1.4954\n"
     ]
    },
    {
     "name": "stderr",
     "output_type": "stream",
     "text": [
      "Training Epoch 36/50: 100%|██████████| 750/750 [00:03<00:00, 194.74it/s]\n",
      "Validation Epoch 36/50: 100%|██████████| 188/188 [00:00<00:00, 277.33it/s]\n"
     ]
    },
    {
     "name": "stdout",
     "output_type": "stream",
     "text": [
      "Epoch 36/50, Train Loss: 1.4801, Val Loss: 1.4935\n"
     ]
    },
    {
     "name": "stderr",
     "output_type": "stream",
     "text": [
      "Training Epoch 37/50: 100%|██████████| 750/750 [00:03<00:00, 191.92it/s]\n",
      "Validation Epoch 37/50: 100%|██████████| 188/188 [00:00<00:00, 309.87it/s]\n"
     ]
    },
    {
     "name": "stdout",
     "output_type": "stream",
     "text": [
      "Epoch 37/50, Train Loss: 1.4799, Val Loss: 1.4954\n"
     ]
    },
    {
     "name": "stderr",
     "output_type": "stream",
     "text": [
      "Training Epoch 38/50: 100%|██████████| 750/750 [00:03<00:00, 194.40it/s]\n",
      "Validation Epoch 38/50: 100%|██████████| 188/188 [00:00<00:00, 307.47it/s]\n"
     ]
    },
    {
     "name": "stdout",
     "output_type": "stream",
     "text": [
      "Epoch 38/50, Train Loss: 1.4787, Val Loss: 1.4929\n"
     ]
    },
    {
     "name": "stderr",
     "output_type": "stream",
     "text": [
      "Training Epoch 39/50: 100%|██████████| 750/750 [00:03<00:00, 192.89it/s]\n",
      "Validation Epoch 39/50: 100%|██████████| 188/188 [00:00<00:00, 308.93it/s]\n"
     ]
    },
    {
     "name": "stdout",
     "output_type": "stream",
     "text": [
      "Epoch 39/50, Train Loss: 1.4783, Val Loss: 1.4956\n"
     ]
    },
    {
     "name": "stderr",
     "output_type": "stream",
     "text": [
      "Training Epoch 40/50: 100%|██████████| 750/750 [00:03<00:00, 192.72it/s]\n",
      "Validation Epoch 40/50: 100%|██████████| 188/188 [00:00<00:00, 310.28it/s]\n"
     ]
    },
    {
     "name": "stdout",
     "output_type": "stream",
     "text": [
      "Epoch 40/50, Train Loss: 1.4783, Val Loss: 1.4964\n"
     ]
    },
    {
     "name": "stderr",
     "output_type": "stream",
     "text": [
      "Training Epoch 41/50: 100%|██████████| 750/750 [00:03<00:00, 189.98it/s]\n",
      "Validation Epoch 41/50: 100%|██████████| 188/188 [00:00<00:00, 311.05it/s]\n"
     ]
    },
    {
     "name": "stdout",
     "output_type": "stream",
     "text": [
      "Epoch 41/50, Train Loss: 1.4774, Val Loss: 1.4938\n"
     ]
    },
    {
     "name": "stderr",
     "output_type": "stream",
     "text": [
      "Training Epoch 42/50: 100%|██████████| 750/750 [00:03<00:00, 191.50it/s]\n",
      "Validation Epoch 42/50: 100%|██████████| 188/188 [00:00<00:00, 309.31it/s]\n"
     ]
    },
    {
     "name": "stdout",
     "output_type": "stream",
     "text": [
      "Epoch 42/50, Train Loss: 1.4770, Val Loss: 1.4947\n"
     ]
    },
    {
     "name": "stderr",
     "output_type": "stream",
     "text": [
      "Training Epoch 43/50: 100%|██████████| 750/750 [00:04<00:00, 187.43it/s]\n",
      "Validation Epoch 43/50: 100%|██████████| 188/188 [00:00<00:00, 304.12it/s]\n"
     ]
    },
    {
     "name": "stdout",
     "output_type": "stream",
     "text": [
      "Epoch 43/50, Train Loss: 1.4765, Val Loss: 1.4916\n"
     ]
    },
    {
     "name": "stderr",
     "output_type": "stream",
     "text": [
      "Training Epoch 44/50: 100%|██████████| 750/750 [00:03<00:00, 194.82it/s]\n",
      "Validation Epoch 44/50: 100%|██████████| 188/188 [00:00<00:00, 311.48it/s]\n"
     ]
    },
    {
     "name": "stdout",
     "output_type": "stream",
     "text": [
      "Epoch 44/50, Train Loss: 1.4766, Val Loss: 1.4925\n"
     ]
    },
    {
     "name": "stderr",
     "output_type": "stream",
     "text": [
      "Training Epoch 45/50: 100%|██████████| 750/750 [00:03<00:00, 190.61it/s]\n",
      "Validation Epoch 45/50: 100%|██████████| 188/188 [00:00<00:00, 308.40it/s]\n"
     ]
    },
    {
     "name": "stdout",
     "output_type": "stream",
     "text": [
      "Epoch 45/50, Train Loss: 1.4759, Val Loss: 1.4906\n"
     ]
    },
    {
     "name": "stderr",
     "output_type": "stream",
     "text": [
      "Training Epoch 46/50: 100%|██████████| 750/750 [00:03<00:00, 193.07it/s]\n",
      "Validation Epoch 46/50: 100%|██████████| 188/188 [00:00<00:00, 307.74it/s]\n"
     ]
    },
    {
     "name": "stdout",
     "output_type": "stream",
     "text": [
      "Epoch 46/50, Train Loss: 1.4753, Val Loss: 1.4917\n"
     ]
    },
    {
     "name": "stderr",
     "output_type": "stream",
     "text": [
      "Training Epoch 47/50: 100%|██████████| 750/750 [00:03<00:00, 190.48it/s]\n",
      "Validation Epoch 47/50: 100%|██████████| 188/188 [00:00<00:00, 308.81it/s]\n"
     ]
    },
    {
     "name": "stdout",
     "output_type": "stream",
     "text": [
      "Epoch 47/50, Train Loss: 1.4753, Val Loss: 1.4916\n"
     ]
    },
    {
     "name": "stderr",
     "output_type": "stream",
     "text": [
      "Training Epoch 48/50: 100%|██████████| 750/750 [00:03<00:00, 193.44it/s]\n",
      "Validation Epoch 48/50: 100%|██████████| 188/188 [00:00<00:00, 310.19it/s]\n"
     ]
    },
    {
     "name": "stdout",
     "output_type": "stream",
     "text": [
      "Epoch 48/50, Train Loss: 1.4751, Val Loss: 1.4915\n"
     ]
    },
    {
     "name": "stderr",
     "output_type": "stream",
     "text": [
      "Training Epoch 49/50: 100%|██████████| 750/750 [00:03<00:00, 189.97it/s]\n",
      "Validation Epoch 49/50: 100%|██████████| 188/188 [00:00<00:00, 310.83it/s]\n"
     ]
    },
    {
     "name": "stdout",
     "output_type": "stream",
     "text": [
      "Epoch 49/50, Train Loss: 1.4743, Val Loss: 1.4921\n"
     ]
    },
    {
     "name": "stderr",
     "output_type": "stream",
     "text": [
      "Training Epoch 50/50: 100%|██████████| 750/750 [00:03<00:00, 194.16it/s]\n",
      "Validation Epoch 50/50: 100%|██████████| 188/188 [00:00<00:00, 312.84it/s]\n"
     ]
    },
    {
     "name": "stdout",
     "output_type": "stream",
     "text": [
      "Epoch 50/50, Train Loss: 1.4746, Val Loss: 1.4902\n"
     ]
    },
    {
     "data": {
      "image/png": "[encoded data removed]",
      "text/plain": [
       "<Figure size 1000x600 with 1 Axes>"
      ]
     },
     "metadata": {},
     "output_type": "display_data"
    },
    {
     "name": "stdout",
     "output_type": "stream",
     "text": [
      "Test Loss: 1.4887\n",
      "Test Accuracy: 0.9731\n",
      "Test F1 Score: 0.9731\n",
      "Test Loss: 1.4887\n",
      "Test Accuracy: 0.9731\n",
      "Test F1 Score: 0.9731\n"
     ]
    }
   ],
   "source": [
    "# Unpack model configuration\n",
    "input_dim = model_4_config[\"input_dim\"]\n",
    "hidden_dim = model_4_config[\"hidden_dim\"]\n",
    "out_dim = model_4_config[\"out_dim\"]\n",
    "num_layers = model_4_config[\"num_layers\"]\n",
    "dropout = model_4_config[\"dropout\"]\n",
    "dropout_p = model_4_config[\"dropout_p\"]\n",
    "\n",
    "# Initialize the model\n",
    "model = MyModel(\n",
    "    input_dim=input_dim,\n",
    "    hidden_dims=[hidden_dim] * num_layers,  # Create hidden layers dynamically\n",
    "    output_dim=out_dim,\n",
    "    dropout_probs=[dropout_p if d else 0 for d in dropout]\n",
    ")\n",
    "\n",
    "# Define loss function and optimizer\n",
    "criterion = nn.CrossEntropyLoss()\n",
    "optimizer = optim.Adam(model.parameters(), lr=learning_rate, weight_decay=weight_decay)\n",
    "\n",
    "# Train the model\n",
    "trained_model, train_losses, val_losses = trainer(\n",
    "    model=model,\n",
    "    train_loader=train_dl,\n",
    "    val_loader=val_dl,\n",
    "    criterion=criterion,\n",
    "    optimizer=optimizer,\n",
    "    epochs=50,  # Maximum number of epochs\n",
    "    early_stopping=True,  # Enable early stopping for this experiment\n",
    "    patience=10  # Set patience for early stopping\n",
    ")\n",
    "\n",
    "# Plot training and validation losses\n",
    "plot_losses(train_losses, val_losses)\n",
    "\n",
    "# Evaluate the model on the test dataset\n",
    "test_loss, test_accuracy, test_f1 = evaluate_model(trained_model, test_dl, criterion)\n",
    "\n",
    "# Print test evaluation metrics\n",
    "print(f\"Test Loss: {test_loss:.4f}\")\n",
    "print(f\"Test Accuracy: {test_accuracy:.4f}\")\n",
    "print(f\"Test F1 Score: {test_f1:.4f}\")\n",
    "\n",
    "m4_acc = test_accuracy\n",
    "m4_f1 = test_f1"
   ]
  },
  {
   "cell_type": "code",
   "execution_count": 31,
   "metadata": {
    "id": "nv9bvRimCPiL"
   },
   "outputs": [
    {
     "name": "stdout",
     "output_type": "stream",
     "text": [
      "Model 1: Deep network (3 hidden layers) with no dropout and no weight-decay\n",
      "Test Accuracy: 0.9721\n",
      "Test F1 Score: 0.9721\n",
      "Model 2: Deep network (3 hidden layers) with weight-decay but no dropout\n",
      "Test Accuracy: 0.9721\n",
      "Test F1 Score: 0.9721\n",
      "Model 3: Deep regularized network (3 hidden layers) with weight-decay and dropout after every layer\n",
      "Test Accuracy: 0.9723\n",
      "Test F1 Score: 0.9723\n",
      "Model 4: Deep regularized network (3 hidden layers) with weight-decay and early stopping\n",
      "Test Accuracy: 0.9731\n",
      "Test F1 Score: 0.9731\n"
     ]
    }
   ],
   "source": [
    "#Report the model accuracies and F1-score on the test set\n",
    "\n",
    "print('Model 1: Deep network (3 hidden layers) with no dropout and no weight-decay')\n",
    "print(f\"Test Accuracy: {m1_acc:.4f}\")\n",
    "print(f\"Test F1 Score: {m1_f1:.4f}\")\n",
    "print('Model 2: Deep network (3 hidden layers) with weight-decay but no dropout')\n",
    "print(f\"Test Accuracy: {m2_acc:.4f}\")\n",
    "print(f\"Test F1 Score: {m2_f1:.4f}\")\n",
    "print('Model 3: Deep regularized network (3 hidden layers) with weight-decay and dropout after every layer')\n",
    "print(f\"Test Accuracy: {m3_acc:.4f}\")\n",
    "print(f\"Test F1 Score: {m3_f1:.4f}\")\n",
    "print('Model 4: Deep regularized network (3 hidden layers) with weight-decay and early stopping')\n",
    "print(f\"Test Accuracy: {m4_acc:.4f}\")\n",
    "print(f\"Test F1 Score: {m4_f1:.4f}\")"
   ]
  }
 ],
 "metadata": {
  "colab": {
   "provenance": []
  },
  "kernelspec": {
   "display_name": "Python 3",
   "language": "python",
   "name": "python3"
  },
  "language_info": {
   "codemirror_mode": {
    "name": "ipython",
    "version": 3
   },
   "file_extension": ".py",
   "mimetype": "text/x-python",
   "name": "python",
   "nbconvert_exporter": "python",
   "pygments_lexer": "ipython3",
   "version": "3.12.0"
  }
 },
 "nbformat": 4,
 "nbformat_minor": 4
}
